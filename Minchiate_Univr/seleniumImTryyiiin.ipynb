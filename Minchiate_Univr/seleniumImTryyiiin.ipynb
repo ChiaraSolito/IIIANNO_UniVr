{
 "cells": [
  {
   "cell_type": "code",
   "execution_count": 7,
   "metadata": {},
   "outputs": [
    {
     "name": "stderr",
     "output_type": "stream",
     "text": [
      "\n",
      "\n",
      "====== WebDriver manager ======\n",
      "Current google-chrome version is 98.0.4758\n",
      "Get LATEST chromedriver version for 98.0.4758 google-chrome\n",
      "Driver [/home/chiara/.wdm/drivers/chromedriver/linux64/98.0.4758.102/chromedriver] found in cache\n",
      "<ipython-input-7-0e5e295ebef9>:5: DeprecationWarning: executable_path has been deprecated, please pass in a Service object\n",
      "  driver = webdriver.Chrome(ChromeDriverManager().install())\n"
     ]
    },
    {
     "data": {
      "text/plain": [
       "<bound method WebElement.submit of <selenium.webdriver.remote.webelement.WebElement (session=\"8b27b78f15019af41f5adc741f5a2777\", element=\"dd033298-3dfc-4aa0-8c19-5dccc38b7237\")>>"
      ]
     },
     "execution_count": 7,
     "metadata": {},
     "output_type": "execute_result"
    }
   ],
   "source": [
    "from selenium import webdriver\n",
    "from webdriver_manager.chrome import ChromeDriverManager\n",
    "from selenium.webdriver.common.by import By\n",
    "\n",
    "driver = webdriver.Chrome(ChromeDriverManager().install())\n",
    "driver.get(\"http://www.google.com\")\n",
    "driver.title # => \"Google\"\n",
    "driver.implicitly_wait(0.5)\n",
    "search_accept = driver.find_element(By.ID, \"L2AGLb\")\n",
    "search_accept.click()\n",
    "search_box = driver.find_element(By.NAME, \"q\")\n",
    "search_button = driver.find_element(By.NAME, \"btnK\")\n",
    "search_box.send_keys(\"Selenium\")\n",
    "search_button.submit"
   ]
  },
  {
   "cell_type": "code",
   "execution_count": null,
   "metadata": {},
   "outputs": [],
   "source": []
  }
 ],
 "metadata": {
  "interpreter": {
   "hash": "e8b4cc1ba640aa9dfc3e0d3f4b88fd47f959a4fa0f90be54c91e6377124b530e"
  },
  "kernelspec": {
   "display_name": "Python 3.8.8 ('base')",
   "language": "python",
   "name": "python3"
  },
  "language_info": {
   "codemirror_mode": {
    "name": "ipython",
    "version": 3
   },
   "file_extension": ".py",
   "mimetype": "text/x-python",
   "name": "python",
   "nbconvert_exporter": "python",
   "pygments_lexer": "ipython3",
   "version": "3.8.8"
  },
  "orig_nbformat": 4
 },
 "nbformat": 4,
 "nbformat_minor": 2
}
