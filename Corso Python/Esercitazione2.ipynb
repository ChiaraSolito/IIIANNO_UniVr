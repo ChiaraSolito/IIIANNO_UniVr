{
 "cells": [
  {
   "cell_type": "markdown",
   "id": "143fdaa8",
   "metadata": {},
   "source": [
    "# Esercizio 1\n",
    "Nel gioco \"indovina il numero\" il computer sceglie un numero segreto da 1 a 100 (inclusi), e l'utente deve indovinare il numero nel minor numero di tentativi possibili.\n",
    "Il gioco deve fornire un prompt all'utente per inserire il numero, e si deve assicurare che l'input sia valido (ovvero deve essere un numero da 1 a 100). In caso di input invalido, il gioco deve chiedere un nuovo numero, senza generare errori.\n",
    "Il gioco termina quando il numero inserito è uguale al numero segreto. Se il numero inserito è più basso (risp. alto) del numero segreto, il sistema deve informare l'utente stampando la stringa 'troppo basso' (ris. 'troppo alto').\n",
    "\n",
    "Il gioco deve anche tenere traccia del numero di tentativi usati prima di vincere (escludendo casi di input invalido). In caso di vittoria, il programma stampa il numero di tentativi necessari."
   ]
  },
  {
   "cell_type": "code",
   "execution_count": 5,
   "id": "ec025bb9",
   "metadata": {},
   "outputs": [
    {
     "name": "stdout",
     "output_type": "stream",
     "text": [
      "Troppo alto!\n",
      "Troppo alto!\n",
      "Troppo alto!\n",
      "Troppo alto!\n",
      "Troppo basso!\n",
      "Troppo basso!\n",
      "Troppo basso!\n",
      "Troppo basso!\n",
      "Troppo basso!\n",
      "Troppo alto!\n",
      "Troppo alto!\n",
      "Troppo basso!\n",
      "Troppo basso!\n",
      "Troppo basso!\n",
      "Hai vinto! Il numero di tentativi è stato:15\n"
     ]
    }
   ],
   "source": [
    "from random import randint\n",
    "\n",
    "segreto = randint(1, 100)\n",
    "tentativi = 0\n",
    "\n",
    "def tentativo():\n",
    "    n = int(float(input('inserisci un numero: ')))\n",
    "    while(n < 0 or n > 100):\n",
    "        print('Errore: il numero deve essere tra 0 e 100')\n",
    "        n = int(float(input('inserisci un numero: ')))\n",
    "    return n\n",
    "\n",
    "n = 0\n",
    "while(n != segreto):\n",
    "    n = tentativo()\n",
    "    if(n < segreto):\n",
    "        print('Troppo basso!')\n",
    "    if(n > segreto):\n",
    "        print('Troppo alto!')\n",
    "    tentativi = tentativi + 1\n",
    "print(f'Hai vinto! Il numero di tentativi è stato:{tentativi}')"
   ]
  },
  {
   "cell_type": "markdown",
   "id": "270f38d9",
   "metadata": {},
   "source": [
    "# Esercizio 2\n",
    "Implementate una funzione `invert_dict(d)` che prende un dizionario d e costruisce un nuovo dizionario invertito d', ovvero un dizionario che per ogni coppia chiave-valore di d contiene una coppia valore-chiave, in cui la chiave originale diventa il valore e il valore originale diventa la chiave. Le chiavi di un dizionario sono univoche, mentre i valori non devono esserlo. Se la funzione trova più di una chiave con lo stesso valore, deve sollevare un eccezione di tipo `ValueError(\"unique inversion is not possible\")`.\n",
    "Per esempio, il dizionario `numeri = {'uno':1, 'due':2, 'tre':3}` verrà trasformato in `{1:'uno', 2:'due', 3:'tre'}`, mentre `gambe = {'uomo' : 2, 'gatto': 4, 'lampada' :1, 'cane':4 }` non può essere invertito (4 dovrebbe puntare sia a gatto che a cane).\n",
    "\n",
    "Implementate poi il metodo `invert_dict_multi(d)` che opera nello stesso modo di `invert_dict(d)`, ma puntando a una lista di chiavi, invece che a una singola chiave. Quindi se più di una chiave punta allo stesso elemento non sollevo eccezioni.\n",
    "Per esempio, `gambe = {'uomo' : 2, 'gatto': 4, 'lampada' :1, 'cane':4 }` deve costruire il dizionario invertito `{2: ['uomo'], 4: ['gatto', 'cane'], 1: ['lampada']}`."
   ]
  },
  {
   "cell_type": "code",
   "execution_count": null,
   "id": "6b588f01",
   "metadata": {},
   "outputs": [
    {
     "name": "stdout",
     "output_type": "stream",
     "text": [
      "{1: 'uno', 2: 'due', 3: 'tre'}\n",
      "unique inversion is not possible\n",
      "{1: 'uno', 2: 'due', 3: 'tre'}\n",
      "{2: 'uomo', 4: ['gatto', 'cane'], 1: 'lampada'}\n"
     ]
    }
   ],
   "source": [
    "def invert_dict(d : dict) -> dict:\n",
    "    #rev_d = {v: k for k, v in d.items()}\n",
    "    rev_d = {}\n",
    "    for k,v in d.items():\n",
    "        if v in rev_d.keys():\n",
    "            raise ValueError('unique inversion is not possible')\n",
    "        else:\n",
    "            rev_d[v] = k\n",
    "    return rev_d\n",
    "\n",
    "def invert_dict_multi(d : dict) -> dict:\n",
    "    rev_d = {}\n",
    "    for k,v in d.items():\n",
    "        if v in rev_d.keys():\n",
    "            rev_d[v] = [rev_d[v], k]\n",
    "        else:\n",
    "            rev_d[v] = k\n",
    "    return rev_d\n",
    "\n",
    "\n",
    "numeri = {'uno':1, 'due':2, 'tre':3}\n",
    "gambe = {'uomo' : 2, 'gatto': 4, 'lampada' :1, 'cane':4 }\n",
    "\n",
    "try:\n",
    "    print(invert_dict(numeri))\n",
    "except ValueError as err:\n",
    "    print(err.args[0])\n",
    "    \n",
    "try:\n",
    "    print(invert_dict(gambe))\n",
    "except ValueError as err:\n",
    "    print(err.args[0])\n",
    "    \n",
    "try:\n",
    "    print(invert_dict_multi(numeri))\n",
    "except ValueError as err:\n",
    "    print(err.args[0])\n",
    "\n",
    "try:\n",
    "    print(invert_dict_multi(gambe))\n",
    "except ValueError as err:\n",
    "    print(err.args[0])"
   ]
  },
  {
   "cell_type": "markdown",
   "id": "08fbdda1",
   "metadata": {},
   "source": [
    "# Esercizio 3\n",
    "Il [cifrario di cesare](https://it.wikipedia.org/wiki/Cifrario_di_Cesare) è un noto e semplice algoritmo crittografico. L'algoritmo prende una stringa e una chiave (un numero n), e sposta tutti i caratteri della stringa di n posizioni nell'alfabeto. Se uno spostamento supera la 'z', si ricomincia a contare dalla 'a'. Per esempio, la stringa `abz` e la chiave `2` mi generare la stringa cifrata `cdb`.\n",
    "\n",
    "Implementate le funzioni `cripta(testo, chiave)` che cripta un testo usando il cifrario di cesare, e la funzione `decripta(testo, chiave)` che fa l'operazione inversa. Assumete che le stringhe contengano solo caratteri (maiuscoli e minuscoli) e spazi. Gli spazi non devono essere cambiati, mentre i caratteri devono essere spostati (rispettando maiuscole e minuscole).\n",
    "\n",
    "In python, ogni carattere è identificato da un numero intero. Potete ottenere questo numero usando la funzione `ord('a')`, che può essere utile per trasformare le lettere in numeri e implementare il cifrario. La funzione `chr(n)` fa l'operazione inversa, trasforma numeri in caratteri."
   ]
  },
  {
   "cell_type": "code",
   "execution_count": 19,
   "id": "8be0a9b8",
   "metadata": {},
   "outputs": [
    {
     "name": "stdout",
     "output_type": "stream",
     "text": [
      "bA aB\n",
      "aZ zA\n"
     ]
    }
   ],
   "source": [
    "def cripta(testo : str, chiave : int) -> str:\n",
    "    crip = ''\n",
    "    for c in testo:\n",
    "        if(ord(c) != 32):\n",
    "            if(ord(c) == 122):\n",
    "                c = chr(97 + chiave - 1)\n",
    "            elif(ord(c) == 90 ):\n",
    "                c = chr(65 + chiave - 1)\n",
    "            else:\n",
    "                c = chr(ord(c) + chiave)\n",
    "        crip += c\n",
    "    return crip\n",
    "\n",
    "def decripta(testo : str, chiave : int) -> str:\n",
    "    dec = ''\n",
    "    for c in testo:\n",
    "        if(ord(c) != 32):\n",
    "            if(ord(c) == 97):\n",
    "                c = chr(122 - chiave + 1)\n",
    "            elif(ord(c) == 65 ):\n",
    "                c = chr(90 - chiave + 1)\n",
    "            else:\n",
    "                c = chr(ord(c) - chiave)\n",
    "        dec += c\n",
    "    return dec\n",
    "\n",
    "# esempio di ord e chr\n",
    "print(cripta('aZ zA', 1))\n",
    "print(decripta(cripta('aZ zA', 1), 1))"
   ]
  },
  {
   "cell_type": "markdown",
   "id": "5c7c5d43",
   "metadata": {},
   "source": [
    "# Esercizio 4\n",
    "Il file `experiment_data.csv` contiene i risultati di un esperimento. I dati sono raccolti in tre colonne, e i valori sono separati da virgole. Ogni riga rappresenta il risultato di un esperimento, fatta eccezione per la prima riga, che contiene il nome delle colonne (*misure, potenza, guadagno*). La prima colonna contiene numeri interi, mentre le altre due contengono numeri reali.\n",
    "\n",
    "Implementate una funzione `carica_esperimento(nome_file)` che riceve il nome di un file e ritorna tre liste, la prima conterrà tutti i valori della colonna *misure* (come interi), la seconda tutti i valori della colonna *potenza* (come float), la terza tutti i valori della colonna *guadagno* (come float).\n",
    "\n",
    "Scrivete poi una funzione `media(l)` e `mediana(l)` che ritornano rispettivamente la [media aritmetica](https://it.wikipedia.org/wiki/Media_(statistica)) e la [mediana](https://it.wikipedia.org/wiki/Mediana_(statistica)) di una lista di numeri `l`, e usate queste funzioni per calcolare e stampare a schermo media e mediana di *potenza* e *guadagno*.\n",
    "\n",
    "Costruite poi due dizionari. Il primo mappa ogni possibile valore della colonna *misure* (un valore intero da 35 a 45) alla lista di valori di *potenza* associati a quel numero di misure effettuate. Il secondo crea un mapping simile, ma per i valori di *guadagno*. Calcolare infine la potenza media e il guadagno medio per ogni valore di misura."
   ]
  },
  {
   "cell_type": "code",
   "execution_count": 11,
   "id": "824c9e13",
   "metadata": {},
   "outputs": [
    {
     "name": "stdout",
     "output_type": "stream",
     "text": [
      "None\n",
      "None\n"
     ]
    }
   ],
   "source": [
    "#import random\n",
    "#\n",
    "#print('misure,potenza,guadagno')\n",
    "#for i in range(500):\n",
    "#    print(f'{random.randint(35, 45)},{random.gauss(10.3, 1.5):3f},{random.gauss(0, 2)}')\n",
    "import pandas as pd\n",
    "import statistics\n",
    "\n",
    "def carica_esperimento(nome_file):\n",
    "    df = pd.read_csv(nome_file)\n",
    "    return list(df['misure']), list(df['potenza']), list(df['guadagno'])\n",
    "            \n",
    "def media(l):\n",
    "    statistics.mean(l)\n",
    "\n",
    "def mediana(l):\n",
    "    statistics.median(l)\n",
    "\n",
    "misure, potenza, guadagno = carica_esperimento('experiment_data.csv')\n",
    "\n",
    "# stampa media e mediana di potenza e guadagno\n",
    "print(media(potenza))\n",
    "print(media(guadagno))\n",
    "# costuire i dizionar\n",
    "#mis_potenza = dict((misura : list(potenza)))\n",
    "mis_guadagno = dict()\n",
    "# TODO\n",
    "\n",
    "# calcolo media per mis_potenza\n",
    "for mis, pot in mis_potenza.items():\n",
    "    avg = media(pot)\n",
    "    # stampa valore medio...\n",
    "\n",
    "for mis, guad in mis_guadagno.items():\n",
    "    avg = media(pot)\n",
    "    # stampa valore medio..."
   ]
  },
  {
   "cell_type": "code",
   "execution_count": 9,
   "id": "f1f58a20",
   "metadata": {},
   "outputs": [
    {
     "data": {
      "text/html": [
       "<div>\n",
       "<style scoped>\n",
       "    .dataframe tbody tr th:only-of-type {\n",
       "        vertical-align: middle;\n",
       "    }\n",
       "\n",
       "    .dataframe tbody tr th {\n",
       "        vertical-align: top;\n",
       "    }\n",
       "\n",
       "    .dataframe thead th {\n",
       "        text-align: right;\n",
       "    }\n",
       "</style>\n",
       "<table border=\"1\" class=\"dataframe\">\n",
       "  <thead>\n",
       "    <tr style=\"text-align: right;\">\n",
       "      <th></th>\n",
       "      <th>misure</th>\n",
       "      <th>potenza</th>\n",
       "      <th>guadagno</th>\n",
       "    </tr>\n",
       "  </thead>\n",
       "  <tbody>\n",
       "    <tr>\n",
       "      <th>0</th>\n",
       "      <td>36</td>\n",
       "      <td>10.569221</td>\n",
       "      <td>3.132107</td>\n",
       "    </tr>\n",
       "    <tr>\n",
       "      <th>1</th>\n",
       "      <td>44</td>\n",
       "      <td>9.627524</td>\n",
       "      <td>2.904528</td>\n",
       "    </tr>\n",
       "    <tr>\n",
       "      <th>2</th>\n",
       "      <td>38</td>\n",
       "      <td>9.931779</td>\n",
       "      <td>0.814563</td>\n",
       "    </tr>\n",
       "    <tr>\n",
       "      <th>3</th>\n",
       "      <td>36</td>\n",
       "      <td>14.011150</td>\n",
       "      <td>3.755530</td>\n",
       "    </tr>\n",
       "    <tr>\n",
       "      <th>4</th>\n",
       "      <td>43</td>\n",
       "      <td>8.379274</td>\n",
       "      <td>1.192281</td>\n",
       "    </tr>\n",
       "    <tr>\n",
       "      <th>5</th>\n",
       "      <td>42</td>\n",
       "      <td>8.931761</td>\n",
       "      <td>-0.060241</td>\n",
       "    </tr>\n",
       "    <tr>\n",
       "      <th>6</th>\n",
       "      <td>37</td>\n",
       "      <td>9.647863</td>\n",
       "      <td>-0.782861</td>\n",
       "    </tr>\n",
       "    <tr>\n",
       "      <th>7</th>\n",
       "      <td>44</td>\n",
       "      <td>9.861138</td>\n",
       "      <td>-2.664364</td>\n",
       "    </tr>\n",
       "    <tr>\n",
       "      <th>8</th>\n",
       "      <td>39</td>\n",
       "      <td>12.450897</td>\n",
       "      <td>4.344946</td>\n",
       "    </tr>\n",
       "    <tr>\n",
       "      <th>9</th>\n",
       "      <td>44</td>\n",
       "      <td>10.523497</td>\n",
       "      <td>-3.257615</td>\n",
       "    </tr>\n",
       "  </tbody>\n",
       "</table>\n",
       "</div>"
      ],
      "text/plain": [
       "   misure    potenza  guadagno\n",
       "0      36  10.569221  3.132107\n",
       "1      44   9.627524  2.904528\n",
       "2      38   9.931779  0.814563\n",
       "3      36  14.011150  3.755530\n",
       "4      43   8.379274  1.192281\n",
       "5      42   8.931761 -0.060241\n",
       "6      37   9.647863 -0.782861\n",
       "7      44   9.861138 -2.664364\n",
       "8      39  12.450897  4.344946\n",
       "9      44  10.523497 -3.257615"
      ]
     },
     "execution_count": 9,
     "metadata": {},
     "output_type": "execute_result"
    }
   ],
   "source": [
    " import pandas as pd\n",
    " \n",
    " df = pd.read_csv('experiment_data.csv')\n",
    " df.head(10)"
   ]
  },
  {
   "cell_type": "markdown",
   "id": "ec58e5c4",
   "metadata": {},
   "source": [
    "# Esercizio 5 - extra\n",
    "esercizio facoltativo per gli studenti che vogliono esplorare il concetto di ricorsione. Considerate il Problema 5.6 di think python 2e. Esso affronta il problema di stampare un frattale, ovvero una figura geometria costruita ricorsivamente, usando la libreria turtle. Il libro di testo fornisce consigli e soluzioni su come disegnare un [fiocco di neve di koch](https://it.wikipedia.org/wiki/Curva_di_Koch) e può essere un buon esercizio per capire meglio il funzionamento delle funzioni ricorsive."
   ]
  }
 ],
 "metadata": {
  "interpreter": {
   "hash": "916dbcbb3f70747c44a77c7bcd40155683ae19c65e1c03b4aa3499c5328201f1"
  },
  "kernelspec": {
   "display_name": "Python 3.8.10 64-bit",
   "language": "python",
   "name": "python3"
  },
  "language_info": {
   "codemirror_mode": {
    "name": "ipython",
    "version": 3
   },
   "file_extension": ".py",
   "mimetype": "text/x-python",
   "name": "python",
   "nbconvert_exporter": "python",
   "pygments_lexer": "ipython3",
   "version": "3.8.10"
  }
 },
 "nbformat": 4,
 "nbformat_minor": 5
}
