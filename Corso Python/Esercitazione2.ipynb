{
 "cells": [
  {
   "cell_type": "markdown",
   "id": "143fdaa8",
   "metadata": {},
   "source": [
    "# Esercizio 1\n",
    "Nel gioco \"indovina il numero\" il computer sceglie un numero segreto da 1 a 100 (inclusi), e l'utente deve indovinare il numero nel minor numero di tentativi possibili.\n",
    "Il gioco deve fornire un prompt all'utente per inserire il numero, e si deve assicurare che l'input sia valido (ovvero deve essere un numero da 1 a 100). In caso di input invalido, il gioco deve chiedere un nuovo numero, senza generare errori.\n",
    "Il gioco termina quando il numero inserito è uguale al numero segreto. Se il numero inserito è più basso (risp. alto) del numero segreto, il sistema deve informare l'utente stampando la stringa 'troppo basso' (ris. 'troppo alto').\n",
    "\n",
    "Il gioco deve anche tenere traccia del numero di tentativi usati prima di vincere (escludendo casi di input invalido). In caso di vittoria, il programma stampa il numero di tentativi necessari."
   ]
  },
  {
   "cell_type": "code",
   "execution_count": 20,
   "id": "ec025bb9",
   "metadata": {},
   "outputs": [
    {
     "name": "stdout",
     "output_type": "stream",
     "text": [
      "Troppo basso!\n",
      "Troppo basso!\n",
      "Troppo basso!\n",
      "Troppo basso!\n",
      "Troppo basso!\n",
      "Troppo alto!\n",
      "Troppo alto!\n",
      "Troppo alto!\n",
      "Hai vinto! Il numero di tentativi è stato:9\n"
     ]
    }
   ],
   "source": [
    "from random import randint\n",
    "\n",
    "segreto = randint(1, 100)\n",
    "tentativi = 0\n",
    "\n",
    "def tentativo():\n",
    "    n = int(float(input('inserisci un numero: ')))\n",
    "    while(n < 0 or n > 100):\n",
    "        print('Errore: il numero deve essere tra 0 e 100')\n",
    "        n = int(float(input('inserisci un numero: ')))\n",
    "    return n\n",
    "\n",
    "while(n != segreto):\n",
    "    n = tentativo()\n",
    "    if(n < segreto):\n",
    "        print('Troppo basso!')\n",
    "    if(n > segreto):\n",
    "        print('Troppo alto!')\n",
    "    tentativi = tentativi + 1\n",
    "print(f'Hai vinto! Il numero di tentativi è stato:{tentativi}')\n",
    "\n"
   ]
  },
  {
   "cell_type": "markdown",
   "id": "270f38d9",
   "metadata": {},
   "source": [
    "# Esercizio 2\n",
    "Implementate una funzione `invert_dict(d)` che prende un dizionario d e costruisce un nuovo dizionario invertito d', ovvero un dizionario che per ogni coppia chiave-valore di d contiene una coppia valore-chiave, in cui la chiave originale diventa il valore e il valore originale diventa la chiave. Le chiavi di un dizionario sono univoche, mentre i valori non devono esserlo. Se la funzione trova più di una chiave con lo stesso valore, deve sollevare un eccezione di tipo `ValueError(\"unique inversion is not possible\")`.\n",
    "Per esempio, il dizionario `numeri = {'uno':1, 'due':2, 'tre':3}` verrà trasformato in `{1:'uno', 2:'due', 3:'tre'}`, mentre `gambe = {'uomo' : 2, 'gatto': 4, 'lampada' :1, 'cane':4 }` non può essere invertito (4 dovrebbe puntare sia a gatto che a cane).\n",
    "\n",
    "Implementate poi il metodo `invert_dict_multi(d)` che opera nello stesso modo di `invert_dict(d)`, ma puntando a una lista di chiavi, invece che a una singola chiave. Quindi se più di una chiave punta allo stesso elemento non sollevo eccezioni.\n",
    "Per esempio, `gambe = {'uomo' : 2, 'gatto': 4, 'lampada' :1, 'cane':4 }` deve costruire il dizionario invertito `{2: ['uomo'], 4: ['gatto', 'cane'], 1: ['lampada']}`."
   ]
  },
  {
   "cell_type": "code",
   "execution_count": 10,
   "id": "6b588f01",
   "metadata": {},
   "outputs": [
    {
     "name": "stdout",
     "output_type": "stream",
     "text": [
      "None\n",
      "None\n",
      "None\n",
      "None\n"
     ]
    }
   ],
   "source": [
    "def invert_dict(d : dict) -> dict:\n",
    "    pass\n",
    "\n",
    "def invert_dict_multi(d : dict) -> dict:\n",
    "    pass\n",
    "\n",
    "\n",
    "numeri = {'uno':1, 'due':2, 'tre':3}\n",
    "gambe = {'uomo' : 2, 'gatto': 4, 'lampada' :1, 'cane':4 }\n",
    "\n",
    "try:\n",
    "    print(invert_dict(numeri))\n",
    "except ValueError as err:\n",
    "    print(err.args[0])\n",
    "    \n",
    "try:\n",
    "    print(invert_dict(gambe))\n",
    "except ValueError as err:\n",
    "    print(err.args[0])\n",
    "    \n",
    "try:\n",
    "    print(invert_dict_multi(numeri))\n",
    "except ValueError as err:\n",
    "    print(err.args[0])\n",
    "\n",
    "try:\n",
    "    print(invert_dict_multi(gambe))\n",
    "except ValueError as err:\n",
    "    print(err.args[0])"
   ]
  },
  {
   "cell_type": "markdown",
   "id": "08fbdda1",
   "metadata": {},
   "source": [
    "# Esercizio 3\n",
    "Il [cifrario di cesare](https://it.wikipedia.org/wiki/Cifrario_di_Cesare) è un noto e semplice algoritmo crittografico. L'algoritmo prende una stringa e una chiave (un numero n), e sposta tutti i caratteri della stringa di n posizioni nell'alfabeto. Se uno spostamento supera la 'z', si ricomincia a contare dalla 'a'. Per esempio, la stringa `abz` e la chiave `2` mi generare la stringa cifrata `cdb`.\n",
    "\n",
    "Implementate le funzioni `cripta(testo, chiave)` che cripta un testo usando il cifrario di cesare, e la funzione `decripta(testo, chiave)` che fa l'operazione inversa. Assumete che le stringhe contengano solo caratteri (maiuscoli e minuscoli) e spazi. Gli spazi non devono essere cambiati, mentre i caratteri devono essere spostati (rispettando maiuscole e minuscole).\n",
    "\n",
    "In python, ogni carattere è identificato da un numero intero. Potete ottenere questo numero usando la funzione `ord('a')`, che può essere utile per trasformare le lettere in numeri e implementare il cifrario. La funzione `chr(n)` fa l'operazione inversa, trasforma numeri in caratteri."
   ]
  },
  {
   "cell_type": "code",
   "execution_count": 11,
   "id": "8be0a9b8",
   "metadata": {},
   "outputs": [
    {
     "name": "stdout",
     "output_type": "stream",
     "text": [
      "97 65\n",
      "a\n"
     ]
    }
   ],
   "source": [
    "def cripta(testo : str, chiave : int) -> str:\n",
    "    pass\n",
    "\n",
    "def decripta(testo : str, chiave : int) -> str:\n",
    "    pass\n",
    "\n",
    "# esempio di ord e chr\n",
    "print(ord('a'), ord('A'))\n",
    "print(chr(ord('a')))"
   ]
  },
  {
   "cell_type": "markdown",
   "id": "5c7c5d43",
   "metadata": {},
   "source": [
    "# Esercizio 4\n",
    "Il file `experiment_data.csv` contiene i risultati di un esperimento. I dati sono raccolti in tre colonne, e i valori sono separati da virgole. Ogni riga rappresenta il risultato di un esperimento, fatta eccezione per la prima riga, che contiene il nome delle colonne (*misure, potenza, guadagno*). La prima colonna contiene numeri interi, mentre le altre due contengono numeri reali.\n",
    "\n",
    "Implementate una funzione `carica_esperimento(nome_file)` che riceve il nome di un file e ritorna tre liste, la prima conterrà tutti i valori della colonna *misure* (come interi), la seconda tutti i valori della colonna *potenza* (come float), la terza tutti i valori della colonna *guadagno* (come float).\n",
    "\n",
    "Scrivete poi una funzione `media(l)` e `mediana(l)` che ritornano rispettivamente la [media aritmetica](https://it.wikipedia.org/wiki/Media_(statistica)) e la [mediana](https://it.wikipedia.org/wiki/Mediana_(statistica)) di una lista di numeri `l`, e usate queste funzioni per calcolare e stampare a schermo media e mediana di *potenza* e *guadagno*.\n",
    "\n",
    "Costruite poi due dizionari. Il primo mappa ogni possibile valore della colonna *misure* (un valore intero da 35 a 45) alla lista di valori di *potenza* associati a quel numero di misure effettuate. Il secondo crea un mapping simile, ma per i valori di *guadagno*. Calcolare infine la potenza media e il guadagno medio per ogni valore di misura."
   ]
  },
  {
   "cell_type": "code",
   "execution_count": 12,
   "id": "824c9e13",
   "metadata": {},
   "outputs": [
    {
     "ename": "TypeError",
     "evalue": "cannot unpack non-iterable NoneType object",
     "output_type": "error",
     "traceback": [
      "\u001b[0;31m---------------------------------------------------------------------------\u001b[0m",
      "\u001b[0;31mTypeError\u001b[0m                                 Traceback (most recent call last)",
      "\u001b[1;32m/home/chiara/Documents/Git/IIIANNO_UniVr/Corso Python/Esercitazione2.ipynb Cell 8'\u001b[0m in \u001b[0;36m<cell line: 16>\u001b[0;34m()\u001b[0m\n\u001b[1;32m     <a href='vscode-notebook-cell:/home/chiara/Documents/Git/IIIANNO_UniVr/Corso%20Python/Esercitazione2.ipynb#ch0000007?line=12'>13</a>\u001b[0m \u001b[39mdef\u001b[39;00m \u001b[39mmediana\u001b[39m(l):\n\u001b[1;32m     <a href='vscode-notebook-cell:/home/chiara/Documents/Git/IIIANNO_UniVr/Corso%20Python/Esercitazione2.ipynb#ch0000007?line=13'>14</a>\u001b[0m     \u001b[39mpass\u001b[39;00m\n\u001b[0;32m---> <a href='vscode-notebook-cell:/home/chiara/Documents/Git/IIIANNO_UniVr/Corso%20Python/Esercitazione2.ipynb#ch0000007?line=15'>16</a>\u001b[0m misure, potenza, guadagno \u001b[39m=\u001b[39m carica_esperimento(\u001b[39m'\u001b[39m\u001b[39mexperiment_data.csv\u001b[39m\u001b[39m'\u001b[39m)\n\u001b[1;32m     <a href='vscode-notebook-cell:/home/chiara/Documents/Git/IIIANNO_UniVr/Corso%20Python/Esercitazione2.ipynb#ch0000007?line=17'>18</a>\u001b[0m \u001b[39m# stampa media e mediana di potenza e guadagno\u001b[39;00m\n\u001b[1;32m     <a href='vscode-notebook-cell:/home/chiara/Documents/Git/IIIANNO_UniVr/Corso%20Python/Esercitazione2.ipynb#ch0000007?line=18'>19</a>\u001b[0m \n\u001b[1;32m     <a href='vscode-notebook-cell:/home/chiara/Documents/Git/IIIANNO_UniVr/Corso%20Python/Esercitazione2.ipynb#ch0000007?line=19'>20</a>\u001b[0m \u001b[39m# costuire i dizionar\u001b[39;00m\n\u001b[1;32m     <a href='vscode-notebook-cell:/home/chiara/Documents/Git/IIIANNO_UniVr/Corso%20Python/Esercitazione2.ipynb#ch0000007?line=20'>21</a>\u001b[0m mis_potenza \u001b[39m=\u001b[39m \u001b[39mdict\u001b[39m()\n",
      "\u001b[0;31mTypeError\u001b[0m: cannot unpack non-iterable NoneType object"
     ]
    }
   ],
   "source": [
    "#import random\n",
    "#\n",
    "#print('misure,potenza,guadagno')\n",
    "#for i in range(500):\n",
    "#    print(f'{random.randint(35, 45)},{random.gauss(10.3, 1.5):3f},{random.gauss(0, 2)}')\n",
    "\n",
    "def carica_esperimento(nome_file):\n",
    "    pass\n",
    "\n",
    "def media(l):\n",
    "    pass\n",
    "\n",
    "def mediana(l):\n",
    "    pass\n",
    "\n",
    "misure, potenza, guadagno = carica_esperimento('experiment_data.csv')\n",
    "\n",
    "# stampa media e mediana di potenza e guadagno\n",
    "\n",
    "# costuire i dizionar\n",
    "mis_potenza = dict()\n",
    "mis_guadagno = dict()\n",
    "# TODO\n",
    "\n",
    "# calcolo media per mis_potenza\n",
    "for mis, pot in mis_potenza.items():\n",
    "    avg = media(pot)\n",
    "    # stampa valore medio...\n",
    "\n",
    "for mis, guad in mis_guadagno.items():\n",
    "    avg = media(pot)\n",
    "    # stampa valore medio..."
   ]
  },
  {
   "cell_type": "markdown",
   "id": "ec58e5c4",
   "metadata": {},
   "source": [
    "# Esercizio 5 - extra\n",
    "esercizio facoltativo per gli studenti che vogliono esplorare il concetto di ricorsione. Considerate il Problema 5.6 di think python 2e. Esso affronta il problema di stampare un frattale, ovvero una figura geometria costruita ricorsivamente, usando la libreria turtle. Il libro di testo fornisce consigli e soluzioni su come disegnare un [fiocco di neve di koch](https://it.wikipedia.org/wiki/Curva_di_Koch) e può essere un buon esercizio per capire meglio il funzionamento delle funzioni ricorsive."
   ]
  }
 ],
 "metadata": {
  "interpreter": {
   "hash": "916dbcbb3f70747c44a77c7bcd40155683ae19c65e1c03b4aa3499c5328201f1"
  },
  "kernelspec": {
   "display_name": "Python 3.8.10 64-bit",
   "language": "python",
   "name": "python3"
  },
  "language_info": {
   "codemirror_mode": {
    "name": "ipython",
    "version": 3
   },
   "file_extension": ".py",
   "mimetype": "text/x-python",
   "name": "python",
   "nbconvert_exporter": "python",
   "pygments_lexer": "ipython3",
   "version": "3.8.10"
  }
 },
 "nbformat": 4,
 "nbformat_minor": 5
}
