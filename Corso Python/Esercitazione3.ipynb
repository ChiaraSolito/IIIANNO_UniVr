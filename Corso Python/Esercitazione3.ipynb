{
 "cells": [
  {
   "cell_type": "markdown",
   "id": "0f35d1ac",
   "metadata": {},
   "source": [
    "# Esercizio 1\n",
    "In questo esercizio dovete implementare due funzioni, `estremi(lista)` e `somma_estremi(lista)`.\n",
    "Entrambe le funzioni operano su liste di numeri interi.\n",
    "La prima, `estremi(lista)`, ritorna una tupla contenente la posizione del valore minimo e massimo contenute in lista, in quest'ordine.\n",
    "Potete assumere che ogni numero nella lista è unico (ovvero, i valori massimi e minimi sono unici).\n",
    "\n",
    "Implementate poi la funzione somma_estremi(lista). Essa trova le posizioni del valore massimo e minimo usando estremi(lista), e ritorna infine la somma di tutti i valori inclusi tra quelle due posizioni, estremi inclusi.\n",
    "Notate che la posizione del minimo può essere maggiore o minore di quella del massimo.\n",
    "\n",
    "Esempio1:\n",
    "`lista = [ 1, 2, 3, 4, 5 ]`. La funzione `estremi(lista)` ritorna (0, 4), ovvero le posizioni di 1 e 5.\n",
    "La funzione `somma_estremi(lista)` ritorna 15, ovvero 1 + 2 + 3 + 4 + 5\n",
    "\n",
    "Esempio2:\n",
    "`lista = [ 3, 8, 2, 0, 6 ]`.La funzione `estremi(lista)` ritorna (3, 1), ovvero le posizioni di 0 e 8.\n",
    "La funzione `somma_estremi(lista)` ritorna 10, ovvero la somma 8 + 2 + 0\n",
    "\n",
    "\n",
    "Assunzioni:\n",
    "* Ogni elemento $i$ di $list$ è un numero intero, $0 \\le i \\le 1000$\n",
    "* Ogni elemento $i$ di $list$ è unico\n",
    "* Ogni lista contiene da 2 a 100 elementi"
   ]
  },
  {
   "cell_type": "code",
   "execution_count": 40,
   "id": "5c8add8e",
   "metadata": {},
   "outputs": [
    {
     "data": {
      "text/plain": [
       "15"
      ]
     },
     "execution_count": 40,
     "metadata": {},
     "output_type": "execute_result"
    }
   ],
   "source": [
    "from typing import List, Tuple\n",
    "\n",
    "def estremi(lista : List[int]) -> Tuple[int, int]:\n",
    "    return (lista.index(min(num for num in lista)),lista.index(max(num for num in lista)))\n",
    "\n",
    "def somma_estremi(lista : List[int]) -> int:\n",
    "    sum = 0\n",
    "    for i in range(min(estremi(lista)), max(estremi(lista)) + 1):\n",
    "        sum = sum + lista[i]\n",
    "    return sum\n",
    "\n",
    "lista = [ 1, 2, 3, 4, 5 ]   \n",
    "somma_estremi(lista)"
   ]
  },
  {
   "cell_type": "code",
   "execution_count": 41,
   "id": "312f15eb",
   "metadata": {},
   "outputs": [],
   "source": [
    "lista = [ 1, 2, 3, 4, 5 ]\n",
    "assert estremi(lista) == (0, 4)\n",
    "assert somma_estremi(lista) == 15"
   ]
  },
  {
   "cell_type": "code",
   "execution_count": 42,
   "id": "2504228c",
   "metadata": {},
   "outputs": [],
   "source": [
    "lista = [ 3, 8, 2, 0, 6 ]\n",
    "assert estremi(lista) == (3, 1)\n",
    "assert somma_estremi(lista) == 10"
   ]
  },
  {
   "cell_type": "markdown",
   "id": "76c4f056",
   "metadata": {},
   "source": [
    "# Esercizio 2\n",
    "In questo esercizio dovete implementare la funzione `miglior_sequenza(nome_file)`. L'input `nome_file` è una stringa che rappresenta il nome di un file. La funzione deve aprire il file e leggerne il contenuto. Ogni riga del file è composta da quattro valori numerici (float) separati da virgola.\n",
    "Ognuna delle quattro colonne rappresenta una sequenza, la funzione deve calcolare la media di ogni sequenza e ritorna il numero della sequenza che ha la media più alta (un numero compreso tra 0, la prima colonna, e 3, l'ultima).\n",
    "\n",
    "Potete svolgere l'esercizio senza usare moduli, oppure usando numpy e/o pandas.\n",
    "\n",
    "Assunzioni:\n",
    "* Ogni riga del file contiene esattamente 4 numeri, separati da virgola.\n",
    "* Il file contiene da 1 a 1000 righe\n",
    "* La colonna con la media più alta è unica"
   ]
  },
  {
   "cell_type": "code",
   "execution_count": 71,
   "id": "5e8ef3ca",
   "metadata": {},
   "outputs": [
    {
     "data": {
      "text/plain": [
       "2"
      ]
     },
     "execution_count": 71,
     "metadata": {},
     "output_type": "execute_result"
    }
   ],
   "source": [
    "import pandas as pd\n",
    "import statistics\n",
    "\n",
    "def miglior_sequenza(nome_file : str) -> int:\n",
    "    df = pd.read_csv(nome_file, header=None)\n",
    "    best_seq = 0\n",
    "    for col in df.columns:\n",
    "        if(df[col].mean() > df[best_seq].mean()):\n",
    "            best_seq = col\n",
    "    return best_seq\n",
    "\n",
    "miglior_sequenza('esempio_es_2.csv')"
   ]
  },
  {
   "cell_type": "code",
   "execution_count": 72,
   "id": "29eef5de",
   "metadata": {},
   "outputs": [],
   "source": [
    "migliore = miglior_sequenza('esempio_es_2.csv')\n",
    "assert migliore == 2"
   ]
  },
  {
   "cell_type": "markdown",
   "id": "acd8558f",
   "metadata": {},
   "source": [
    "# Esercizio 3\n",
    "In questo esercizio dovete implementare la funzione `filtra_parole(parole, minima_frequenza, minima_lunghezza)`. Essa riceve in input un dizionario `parole` che mappa stringhe in interi. Le chiavi del dizionario rappresentano le parole contenute in un testo, mentre i valori del dizionario sono il numero di volte che quella parola è stata usata nel testo.\n",
    "La funzione `filtra_parole(parole, minima_frequenza, minima_lunghezza)` ritorna una lista di stringhe contenenti le parole di `parole` che sono state usate almeno `minima_frequenza` volte e la cui lunghezza è almeno `minima_lunghezza`. Le parole della lista risultato devono essere ordinate in ordine alfabetico.\n",
    "\n",
    "Per esempio, dati il dizionario `d = {'cane' : 100, 'coccodrillo' : 5, 'serpente' : 10,  'panda' : 10,}`, `filtra_parole(d, 10, 5)` deve ritornare la lista `['panda', 'serprente']`. Non posso includere ne `'cane'`, perché è troppo corto, ne `coccodrillo`, perché è stata usata troppe poche volte.\n",
    "\n",
    "* Il dizionario contiene da 1 a 1000 elementi."
   ]
  },
  {
   "cell_type": "code",
   "execution_count": 34,
   "id": "891f627d",
   "metadata": {},
   "outputs": [],
   "source": [
    "from typing import Dict, List\n",
    "def filtra_parole(parole : Dict[str, int], minima_frequenza : int, minima_lunghezza : int) -> List[str]:\n",
    "    filtro = list()\n",
    "    for parola in parole.items():\n",
    "        if len(parola[0]) >= minima_lunghezza and parola[1] >= minima_frequenza:\n",
    "            filtro.append(parola[0])\n",
    "            filtro.sort()\n",
    "    return filtro"
   ]
  },
  {
   "cell_type": "code",
   "execution_count": 35,
   "id": "65abad19",
   "metadata": {},
   "outputs": [
    {
     "name": "stdout",
     "output_type": "stream",
     "text": [
      "['panda', 'serpente']\n"
     ]
    }
   ],
   "source": [
    "d = {'cane' : 100, 'coccodrillo' : 5, 'serpente' : 10,  'panda' : 10}\n",
    "res = filtra_parole(d, 10, 5)\n",
    "print(res)\n",
    "assert len(res) == 2\n",
    "assert res[0] == 'panda'\n",
    "assert res[1] == 'serpente'"
   ]
  },
  {
   "cell_type": "markdown",
   "id": "ae5beefa",
   "metadata": {},
   "source": [
    "# Esercizio 4 - Pandas e Matplotlib\n",
    "Questo esercizio serve a esplorare alcune delle feature di pandas e matplotlib. Consiglio di svolgere l'esercizio su jupyter-notebook."
   ]
  },
  {
   "cell_type": "markdown",
   "id": "c726fe9d",
   "metadata": {},
   "source": [
    "## Lettura e scrittura di Dataframe\n",
    "\n",
    "Come primo step, caricate il file `'dati_climatici.csv'` usando read_csv."
   ]
  },
  {
   "cell_type": "code",
   "execution_count": 37,
   "id": "9b043909",
   "metadata": {
    "scrolled": true
   },
   "outputs": [],
   "source": [
    "import pandas as pd\n",
    "clima = pd.read_csv('dati_climatici.csv')"
   ]
  },
  {
   "cell_type": "markdown",
   "id": "fca089db",
   "metadata": {},
   "source": [
    "Provate a convertire il dataframe in altri formati."
   ]
  },
  {
   "cell_type": "code",
   "execution_count": 38,
   "id": "c96851c6",
   "metadata": {},
   "outputs": [
    {
     "data": {
      "text/plain": [
       "<bound method NDFrame.to_excel of    giorno;temperatura;vel_vento;evento\n",
       "0                01/01/17;32;6;Pioggia\n",
       "1                   02/01/17;35;7;Sole\n",
       "2                   03/01/17;28;2;Neve\n",
       "3                   04/01/17;24;7;Neve\n",
       "4                05/01/17;32;4;Pioggia\n",
       "5                   06/01/17;31;2;Sole\n",
       "6                   07/01/17;31;2;Sole\n",
       "7                   08/01/17;30;3;Sole\n",
       "8                   09/01/17;29;4;Sole\n",
       "9                10/01/17;28;5;Pioggia\n",
       "10               11/01/17;27;6;Pioggia\n",
       "11               12/01/17;25;7;Pioggia\n",
       "12                  13/01/17;24;8;Neve\n",
       "13               14/01/17;32;6;Pioggia\n",
       "14                  15/01/17;35;7;Sole\n",
       "15                  16/01/17;28;2;Neve\n",
       "16                  17/01/17;24;7;Neve\n",
       "17               18/01/17;32;4;Pioggia\n",
       "18                  19/01/17;31;2;Sole\n",
       "19                  20/01/17;31;2;Sole\n",
       "20                  21/01/17;30;3;Sole\n",
       "21                  22/01/17;29;4;Sole\n",
       "22               23/01/17;28;5;Pioggia\n",
       "23               24/01/17;27;6;Pioggia\n",
       "24               25/01/17;25;7;Pioggia\n",
       "25                  26/01/17;24;8;Neve\n",
       "26               27/01/17;32;6;Pioggia\n",
       "27                  28/01/17;35;7;Sole\n",
       "28                  29/01/17;28;2;Neve\n",
       "29                  30/01/17;24;7;Neve\n",
       "30               31/01/17;32;4;Pioggia>"
      ]
     },
     "execution_count": 38,
     "metadata": {},
     "output_type": "execute_result"
    }
   ],
   "source": [
    "# Stampate clima in formato excel\n",
    "clima.to_excel"
   ]
  },
  {
   "cell_type": "code",
   "execution_count": 39,
   "id": "146a2e60",
   "metadata": {},
   "outputs": [
    {
     "data": {
      "text/plain": [
       "<bound method DataFrame.to_html of    giorno;temperatura;vel_vento;evento\n",
       "0                01/01/17;32;6;Pioggia\n",
       "1                   02/01/17;35;7;Sole\n",
       "2                   03/01/17;28;2;Neve\n",
       "3                   04/01/17;24;7;Neve\n",
       "4                05/01/17;32;4;Pioggia\n",
       "5                   06/01/17;31;2;Sole\n",
       "6                   07/01/17;31;2;Sole\n",
       "7                   08/01/17;30;3;Sole\n",
       "8                   09/01/17;29;4;Sole\n",
       "9                10/01/17;28;5;Pioggia\n",
       "10               11/01/17;27;6;Pioggia\n",
       "11               12/01/17;25;7;Pioggia\n",
       "12                  13/01/17;24;8;Neve\n",
       "13               14/01/17;32;6;Pioggia\n",
       "14                  15/01/17;35;7;Sole\n",
       "15                  16/01/17;28;2;Neve\n",
       "16                  17/01/17;24;7;Neve\n",
       "17               18/01/17;32;4;Pioggia\n",
       "18                  19/01/17;31;2;Sole\n",
       "19                  20/01/17;31;2;Sole\n",
       "20                  21/01/17;30;3;Sole\n",
       "21                  22/01/17;29;4;Sole\n",
       "22               23/01/17;28;5;Pioggia\n",
       "23               24/01/17;27;6;Pioggia\n",
       "24               25/01/17;25;7;Pioggia\n",
       "25                  26/01/17;24;8;Neve\n",
       "26               27/01/17;32;6;Pioggia\n",
       "27                  28/01/17;35;7;Sole\n",
       "28                  29/01/17;28;2;Neve\n",
       "29                  30/01/17;24;7;Neve\n",
       "30               31/01/17;32;4;Pioggia>"
      ]
     },
     "execution_count": 39,
     "metadata": {},
     "output_type": "execute_result"
    }
   ],
   "source": [
    "clima.to_html"
   ]
  },
  {
   "cell_type": "markdown",
   "id": "3f25181a",
   "metadata": {},
   "source": [
    "## Indici e slice\n",
    "Vogliamo selezionare solo i dati che ci interessano dal dataframe. Potete farlo usando gli indici e lo slicing. Potrebbe essere utile usare l'attributo `.iloc`, che permette di lavorare usando indici numerici (invece che indici ad alto livello, come `'temperatura'`)."
   ]
  },
  {
   "cell_type": "code",
   "execution_count": 40,
   "id": "ae2f306b",
   "metadata": {},
   "outputs": [
    {
     "data": {
      "text/plain": [
       "0     01/01/17;32;6;Pioggia\n",
       "1        02/01/17;35;7;Sole\n",
       "2        03/01/17;28;2;Neve\n",
       "3        04/01/17;24;7;Neve\n",
       "4     05/01/17;32;4;Pioggia\n",
       "5        06/01/17;31;2;Sole\n",
       "6        07/01/17;31;2;Sole\n",
       "7        08/01/17;30;3;Sole\n",
       "8        09/01/17;29;4;Sole\n",
       "9     10/01/17;28;5;Pioggia\n",
       "10    11/01/17;27;6;Pioggia\n",
       "11    12/01/17;25;7;Pioggia\n",
       "12       13/01/17;24;8;Neve\n",
       "13    14/01/17;32;6;Pioggia\n",
       "14       15/01/17;35;7;Sole\n",
       "15       16/01/17;28;2;Neve\n",
       "16       17/01/17;24;7;Neve\n",
       "17    18/01/17;32;4;Pioggia\n",
       "18       19/01/17;31;2;Sole\n",
       "19       20/01/17;31;2;Sole\n",
       "20       21/01/17;30;3;Sole\n",
       "21       22/01/17;29;4;Sole\n",
       "22    23/01/17;28;5;Pioggia\n",
       "23    24/01/17;27;6;Pioggia\n",
       "24    25/01/17;25;7;Pioggia\n",
       "25       26/01/17;24;8;Neve\n",
       "26    27/01/17;32;6;Pioggia\n",
       "27       28/01/17;35;7;Sole\n",
       "28       29/01/17;28;2;Neve\n",
       "29       30/01/17;24;7;Neve\n",
       "30    31/01/17;32;4;Pioggia\n",
       "Name: giorno;temperatura;vel_vento;evento, dtype: object"
      ]
     },
     "execution_count": 40,
     "metadata": {},
     "output_type": "execute_result"
    }
   ],
   "source": [
    "# esempio iloc: selezionare prima colonna\n",
    "clima.iloc[:, 0]"
   ]
  },
  {
   "cell_type": "code",
   "execution_count": 41,
   "id": "ef114712",
   "metadata": {},
   "outputs": [],
   "source": [
    "# selezionare solo le righe in cui la temperatura è esattamente 29 gradi"
   ]
  },
  {
   "cell_type": "code",
   "execution_count": null,
   "id": "d2ddc047",
   "metadata": {},
   "outputs": [],
   "source": [
    "# selezionare le prime 5 righe in cui l'evento è sole o pioggia"
   ]
  },
  {
   "cell_type": "code",
   "execution_count": null,
   "id": "12ae7cbc",
   "metadata": {},
   "outputs": [],
   "source": [
    "# selezionare le righe in cui la velocità del vento è massima"
   ]
  },
  {
   "cell_type": "code",
   "execution_count": null,
   "id": "2a8482bb",
   "metadata": {},
   "outputs": [],
   "source": [
    "# costruite una Series pandas che contiene i dati della colonna temperatura e usa i valori della colonna giorno come etichette.\n",
    "temperature = #todo"
   ]
  },
  {
   "cell_type": "markdown",
   "id": "0466593c",
   "metadata": {},
   "source": [
    "## Statistica\n",
    "Possiamo applicare alcune (semplici) operazioni statistiche sui nostri dati. con `mean()` e `median()` possiamo calcolare rispettivamente media e mediana."
   ]
  },
  {
   "cell_type": "code",
   "execution_count": null,
   "id": "5069a89b",
   "metadata": {},
   "outputs": [],
   "source": [
    "# stampare media e mediana dei valori vel_vento"
   ]
  },
  {
   "cell_type": "markdown",
   "id": "3ec794ea",
   "metadata": {},
   "source": [
    "Possiamo combinare Questi operatori al metodo `groupby`. Questo raccoglie insieme tutte le righe che rispettano un certo parametro. Per esempio, se vogliamo stampare temperatura e velocità vento medie in base all'evento atmosferico, possiamo usare:"
   ]
  },
  {
   "cell_type": "code",
   "execution_count": null,
   "id": "64d08023",
   "metadata": {},
   "outputs": [],
   "source": [
    "# crea 3 righe: Neve, Pioggia, Sole\n",
    "print(clima.groupby('evento').mean())"
   ]
  },
  {
   "cell_type": "code",
   "execution_count": null,
   "id": "c8f4a6f6",
   "metadata": {},
   "outputs": [],
   "source": [
    "# stampate la stessa tabella, ma riportando solo la colonna 'temperatura'\n",
    "# dove mi conviene tagliare? Direttamente su clima, oppure sul risultato finale?"
   ]
  },
  {
   "cell_type": "code",
   "execution_count": null,
   "id": "319db34f",
   "metadata": {},
   "outputs": [],
   "source": [
    "# provate a combinare groupy() con count(), un metodo che ci permette di contare gli elementi\n",
    "# quanti giorni di Pioggia ci sono in clima?"
   ]
  },
  {
   "cell_type": "markdown",
   "id": "2291b7d9",
   "metadata": {},
   "source": [
    "## Stampa\n",
    "Come visto a lezione, possiamo usare pandas per creare grafici. Usiamo `plot()` per fare stampe generiche."
   ]
  },
  {
   "cell_type": "code",
   "execution_count": null,
   "id": "3600fb16",
   "metadata": {},
   "outputs": [],
   "source": [
    "# plot() dell'intero dataframe"
   ]
  },
  {
   "cell_type": "code",
   "execution_count": null,
   "id": "52f16a25",
   "metadata": {},
   "outputs": [],
   "source": [
    "# plot delle sole temperature"
   ]
  },
  {
   "cell_type": "code",
   "execution_count": null,
   "id": "2daa5d09",
   "metadata": {
    "scrolled": true
   },
   "outputs": [],
   "source": [
    "# plot delle vel_vento, raggruppate per evento.\n",
    "# cosa stampo se chiamo plot() su groupby?\n",
    "clima[['vel_vento', 'evento']].groupby('evento').plot();"
   ]
  },
  {
   "cell_type": "markdown",
   "id": "91c204fb",
   "metadata": {},
   "source": [
    "Potete creare stampe più specifiche chiamando `plot` come attributo e specificando uno dei suoi metodi. Per esempio, possiamo stampare uno scatterplot nel seguente modo:"
   ]
  },
  {
   "cell_type": "code",
   "execution_count": null,
   "id": "e0930b5e",
   "metadata": {
    "scrolled": false
   },
   "outputs": [],
   "source": [
    "clima.plot.scatter(x='temperatura', y='vel_vento');"
   ]
  },
  {
   "cell_type": "markdown",
   "id": "71dd2850",
   "metadata": {},
   "source": [
    "Potete ispezionare, con metodi d'introspezione, tutti i metodi disponibili in questo modo: "
   ]
  },
  {
   "cell_type": "code",
   "execution_count": null,
   "id": "d7bdab0a",
   "metadata": {},
   "outputs": [],
   "source": [
    "[ method_name for method_name in dir(clima.plot) if not method_name.startswith(\"_\") ]"
   ]
  },
  {
   "cell_type": "markdown",
   "id": "3d2a43be",
   "metadata": {},
   "source": [
    "Alcuni metodi, come scatterplot, richiedono specifici parametri. Potete trovarli nella documentazione. In Jupyter, potete usare un ? all'inizio di un comando per aprire una finestra con la documentazione"
   ]
  },
  {
   "cell_type": "code",
   "execution_count": null,
   "id": "e5c97bfc",
   "metadata": {},
   "outputs": [],
   "source": [
    "?clima.plot.scatter"
   ]
  },
  {
   "cell_type": "code",
   "execution_count": null,
   "id": "c29e841f",
   "metadata": {},
   "outputs": [],
   "source": [
    "# stampate un grafico a torta (pie) contenente il numero di giorni di Sole, Neve e Pioggia."
   ]
  },
  {
   "cell_type": "code",
   "execution_count": null,
   "id": "4ed2e79e",
   "metadata": {},
   "outputs": [],
   "source": [
    "# stampate un boxplot (box) con i dati di temperatura e vel_vento"
   ]
  },
  {
   "cell_type": "code",
   "execution_count": null,
   "id": "578562fa",
   "metadata": {},
   "outputs": [],
   "source": [
    "# Extra: Provate a stampare un semplice grafico usando tutti i metodi a disposizione!"
   ]
  },
  {
   "cell_type": "markdown",
   "id": "13908cbb",
   "metadata": {},
   "source": [
    "# Per approfondire..."
   ]
  },
  {
   "cell_type": "markdown",
   "id": "651116fb",
   "metadata": {},
   "source": [
    "Potete approfondire ulteriormente pandas seguendo gli esempi proposti nella documentazione ufficiale, che trovate qui: https://pandas.pydata.org/docs/getting_started/index.html#getting-started. Essi si sviluppano tutti attorno ad un unico dataset (i passeggeri del titanic) e coprono pandas nella sua interezza."
   ]
  },
  {
   "cell_type": "markdown",
   "id": "79a38e17",
   "metadata": {},
   "source": [
    "Se servono stampe molto specifiche, possiamo usare direttamente matplotlib.\n",
    "Il sito di matplotlib offre tutorial specifici per ogni feature, li potete trovare qui: https://matplotlib.org/stable/tutorials/index.html.\n",
    "Potete anche consultare un \"ricettario\", con molti casi d'uso comune già implementati, al seguente link: https://matplotlib.org/stable/gallery/index.html"
   ]
  }
 ],
 "metadata": {
  "kernelspec": {
   "display_name": "Python 3.8.10 64-bit",
   "language": "python",
   "name": "python3"
  },
  "language_info": {
   "codemirror_mode": {
    "name": "ipython",
    "version": 3
   },
   "file_extension": ".py",
   "mimetype": "text/x-python",
   "name": "python",
   "nbconvert_exporter": "python",
   "pygments_lexer": "ipython3",
   "version": "3.8.10"
  },
  "vscode": {
   "interpreter": {
    "hash": "916dbcbb3f70747c44a77c7bcd40155683ae19c65e1c03b4aa3499c5328201f1"
   }
  }
 },
 "nbformat": 4,
 "nbformat_minor": 5
}
