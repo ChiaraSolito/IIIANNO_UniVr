{
 "cells": [
  {
   "cell_type": "markdown",
   "id": "8b8ef8a7",
   "metadata": {},
   "source": [
    "# Esercizio 1\n",
    "Un metodo numerico che si può usare per calcolare, in modo approssimato, la radice quadrata di un numero è il [metodo di newton](https://en.wikipedia.org/wiki/Newton%27s_method).\n",
    "Questo metodo parte da una prima stima della radice e migliora iterativamente il valore, avvicinandosi al risultato.\n",
    "Se vogliamo calcolare la radice quadrata di $x$, partendo dalla stima $s$, possiamo ottenere una stima migliore $s'$ usando la formula\n",
    "\\begin{equation}\n",
    "s' = \\frac{s + \\frac{x}{s}}{2}\n",
    "\\end{equation}\n",
    "Per esempio, se vogliamo calcolare la radice di 4 partendo dalla stima 4, otteniamo 2.5. Se applichiamo lo stesso metodo (usando 2.5 al posto di 4 come stima) otteniamo 2.05, un valore sempre più vicino al valore vero (2).\n",
    "\n",
    "Scrivete la funzione `migliora_stima(val, stima)`, che implementa la formula del metodo di newton per migliorare (di un passo) la stima della radice del numero val. Esso deve ritornare il valore migliorato della stima.\n",
    "Implementate poi la funzione `newton(val, stima)`, che prende un valore e una stima, e continua ad applicare `migliora_stima` finché la differenza tra due passi di miglioramento è < 0.0001. La funzione deve infine ritornare questa stima della radice.\n",
    "\n",
    "Potete confrontare la vostra tecnica con la funzione matematica `math.sqrt(val)`."
   ]
  },
  {
   "cell_type": "code",
   "execution_count": 16,
   "id": "4c39a35d",
   "metadata": {},
   "outputs": [
    {
     "name": "stdout",
     "output_type": "stream",
     "text": [
      "2.00000927130158\n",
      "2.0000110137005835\n",
      "4.123112289658587\n",
      "2.0 4.123105625617661\n"
     ]
    }
   ],
   "source": [
    "import math\n",
    "\n",
    "def migliora_stima(val, stima):\n",
    "    stima = (stima + val/stima)/2\n",
    "    return stima\n",
    "\n",
    "def newton(val, stima):\n",
    "    while(abs(stima - math.sqrt(val)) >= 0.0001 ):\n",
    "        stima = migliora_stima(val,stima)\n",
    "    print(stima)\n",
    "    return stima\n",
    "\n",
    "assert(abs(newton(4, 10) - math.sqrt(4)) < 0.0001)\n",
    "assert(abs(newton(4, 0.05) - math.sqrt(4)) < 0.0001)\n",
    "assert(abs(newton(17, 10) - math.sqrt(17)) < 0.0001)\n",
    "\n",
    "print(math.sqrt(4), math.sqrt(17))"
   ]
  },
  {
   "cell_type": "markdown",
   "id": "7f4cbcfd",
   "metadata": {},
   "source": [
    "# Esercizio 2\n",
    "Vogliamo indagare la validità dell'[ultimo teorema di fermat](https://en.wikipedia.org/wiki/Fermat%27s_Last_Theorem).\n",
    "Esso afferma che, dati tre numeri interi positivi $a, b, $ e $c$ e un numero intero $n$ maggiore o uguale a 2, l'espressione\n",
    "\\begin{equation}\n",
    "a^n + b^n = c^n\n",
    "\\end{equation}\n",
    "può essere vera se e solo se n è uguale a 2.\n",
    "Scrivete una funzione `verifica_fermat(a, b, c, n)` che verifica la validità del teorema in una data istanza.\n",
    "Questa funzione deve ritornare True se il teorema vale, o False altrimenti.\n",
    "\n",
    "Scrivete il metodo `testa_teorema(max_num, max_pot)` che serve a testare il teorema più volte. Esso deve usare `verifica_fermat` per ogni combinazione di $a, b, c$ con i numeri compre tra 1 e `max_num`, e li deve testare provando tutte le potenze comprese tra 2 e `max_pot`. Notate che `max_num` e `max_pot` devono essere inclusi nella ricerca.\n",
    "Per esempio, `testa_teorema(3, 3)` proverà a mettere $1, 2, 3$ in $a, b, c$ (in tutte le combinazioni possibili (1, 1, 1), (1, 1, 2), ...); proverà questo combinazioni usando $n = 2$ e $n = 3$.\n",
    "Se `testa_teorema` trova un caso in cui `verifica_fermat` è falso, esso deve stampare \"ho trovato un controesempio\" e fermarsi.\n",
    "Se invece alla fine di tutto non ha trovato nessun controesempio, esso deve stampare \"non ho trovato controesempi\"."
   ]
  },
  {
   "cell_type": "code",
   "execution_count": 23,
   "id": "89e57af7",
   "metadata": {},
   "outputs": [
    {
     "name": "stdout",
     "output_type": "stream",
     "text": [
      "Non ho trovato controesempi\n",
      "Non ho trovato controesempi\n"
     ]
    }
   ],
   "source": [
    "def verifica_fermat(a, b, c, n):\n",
    "    if n == 2:\n",
    "        return True\n",
    "    return not a**n + b**n == c**n\n",
    "\n",
    "def testa_teorema(max_num, max_pot):\n",
    "    num_gen = range(1, max_num + 1)\n",
    "    pot_gen = range(2, max_pot + 1)\n",
    "    # all è vera se tutti gli elementi sono very. any() è simile, vera se almeno un elemento è vero\n",
    "    return all([verifica_fermat(x, y, z, n) for x in num_gen for y in num_gen for z in num_gen for n in pot_gen])\n",
    "                        \n",
    "if(testa_teorema(100, 3)):\n",
    "    print('Non ho trovato controesempi')\n",
    "else:\n",
    "    print('Ho trovato un controesempio')\n",
    "\n",
    "if(testa_teorema(20, 5)):\n",
    "    print('Non ho trovato controesempi')\n",
    "else:\n",
    "    print('Ho trovato un controesempio')"
   ]
  },
  {
   "cell_type": "markdown",
   "id": "332cce31",
   "metadata": {},
   "source": [
    "# Esercizio 3\n",
    "Una tripletta di numeri che soddisfa il teorema quando $n = 2$ è nota come terna pitagoriga. Per esempio, (3, 4, 5) è una terna pittagorica corretta, perché $3^2 + 4^2 = 9 + 16 = 25 = 5^2$.\n",
    "Scrivere una funzione `terna_corretta(a, b, c)` che ritorni `True` se $a, b, c$ sono una terna pitagorica. Notate che l'ordine è importante, confronto sempre la somma delle potenze dei primi due elementi con la potenza del terzo elemento.\n",
    "\n",
    "Implementate poi la funzione `colleziona_terne(max_n)`. Questa funzione ritorna una lista di tuple che sono terne pitagoriche. Essa testa tutte le terne $(a, b, c)$ instanziate con tutte le possibili combinazioni di valori tra 1 e `max_n` (incluso). Usate la funzione `terna_corretta(a, b, c)` per identificare quali combinazioni vanno aggiunte alla collezione.\n",
    "Per esempio, `colleziona_terne(10)` ritorna la lista `[(3, 4, 5), (4, 3, 5), (6, 8, 10), (8, 6, 10)]`"
   ]
  },
  {
   "cell_type": "code",
   "execution_count": 26,
   "id": "974d5b6f",
   "metadata": {},
   "outputs": [
    {
     "name": "stdout",
     "output_type": "stream",
     "text": [
      "[[3, 4, 5], [4, 3, 5], [6, 8, 10], [8, 6, 10]]\n"
     ]
    }
   ],
   "source": [
    "def terna_corretta(a, b, c):\n",
    "    return a**2 + b**2 == c**2\n",
    "\n",
    "def colleziona_terne(max_n):\n",
    "    risultato = []\n",
    "    for a in range(1,max_n + 1):\n",
    "        for b in range(1,max_n + 1):\n",
    "            for c in range(1,max_n + 1):\n",
    "                if(terna_corretta(a,b,c)):\n",
    "                    risultato.append([a,b,c])\n",
    "    return risultato\n",
    "\n",
    "print(colleziona_terne(10))"
   ]
  },
  {
   "cell_type": "code",
   "execution_count": 28,
   "id": "ffc6f326",
   "metadata": {},
   "outputs": [
    {
     "name": "stdout",
     "output_type": "stream",
     "text": [
      "[(3, 4, 5), (4, 3, 5), (6, 8, 10), (8, 6, 10)]\n"
     ]
    }
   ],
   "source": [
    "def terna_corretta(a, b, c):\n",
    "    return a**2 + b**2 == c**2\n",
    "\n",
    "def colleziona_terne(max_n):\n",
    "    max = range(1, max_n + 1)\n",
    "    return [(a,b,c) for a in max for b in max for c in max if (terna_corretta(a,b,c))]\n",
    "\n",
    "print(colleziona_terne(10))"
   ]
  },
  {
   "cell_type": "markdown",
   "id": "ea02270e",
   "metadata": {},
   "source": [
    "# Esercizio 4\n",
    "Implementate la funzione `nested_sum(l)`. Essa riceve in input una lista di liste di numeri interi $l$ e deve calcolare la somma di tutti i numeri presenti nelle liste contenute in `l`. Per esempio, `nested_sum(([[1,2,3], [5], [-1 , -1, -1]])` mi deve ritornare il valore `8`.\n",
    "\n",
    "Implementate la funzione `nested_compact(l)`. Essa riceve in input una lista di liste di numeri interi $l$ e deve costruire una nuova lista che contiene i numeri di $l$, ma senza ripetizioni. L'ordine dei numeri deve essere preservato, se un numero appare più volte, solo la primo occorrenza deve essere inserita nella lista finale.\n",
    "Per esempio, `nested_compact([[1, 2, 3], [-1, 3], [-2, -2]])` deve ritornare la lista `[1, 2, 3, -1, -2]`"
   ]
  },
  {
   "cell_type": "code",
   "execution_count": 36,
   "id": "2eacb19e",
   "metadata": {},
   "outputs": [
    {
     "data": {
      "text/plain": [
       "[1, 2, 3, -1, -2]"
      ]
     },
     "execution_count": 36,
     "metadata": {},
     "output_type": "execute_result"
    }
   ],
   "source": [
    "def nested_sum(l):\n",
    "    sum([num for sublist in l for num in sublist])\n",
    "    return sum\n",
    "\n",
    "def nested_compact(l):\n",
    "    risultato = list()\n",
    "    for sublist in l:\n",
    "        for num in sublist:\n",
    "            if not num in risultato:\n",
    "                risultato.append(num)\n",
    "    return risultato\n",
    "\n",
    "nested_sum(([[1,2,3], [5], [-1 , -1, -1]]))\n",
    "nested_compact([[1, 2, 3], [-1, 3], [-2, -2]])"
   ]
  },
  {
   "cell_type": "markdown",
   "id": "f94bf92e",
   "metadata": {},
   "source": [
    "# Esercizio 5\n",
    "Scrivere una funzione `esclamazioni(l)` che riceve una lista di stringhe e ritorna una nuova lista che segue i seguenti parametri:\n",
    "1. se una stringa non contiene il carattere `a` deve essere ignorata\n",
    "2. le stringhe che contengono il carattere `a` devono essere modificate, aggiungendo la stringa \"a \" prima della stringa originale, e la stringa \"!!!\" alla fine.\n",
    "3. infine, la lista finale deve essere ordinata in ordine alfabetico\n",
    "\n",
    "Per esempio, `esclamazioni([\"zebra\", ,\"lion\", \"gorilla\", \"tiger\"])` deve ritornare la lista `[\"a gorilla!!!\", \"a zebra!!!\"]`"
   ]
  },
  {
   "cell_type": "code",
   "execution_count": 57,
   "id": "e2125933",
   "metadata": {},
   "outputs": [
    {
     "name": "stdout",
     "output_type": "stream",
     "text": [
      "['agorilla!!!', 'azebra!!!']\n"
     ]
    }
   ],
   "source": [
    "def esclamazioni(l):\n",
    "    esc = list()\n",
    "    for parola in l:\n",
    "        if('a' in parola):\n",
    "            esc.append('a' + parola + '!!!')\n",
    "    esc.sort()\n",
    "    return esc\n",
    "\n",
    "print(esclamazioni([\"zebra\",\"lion\", \"gorilla\", \"tiger\"]))"
   ]
  }
 ],
 "metadata": {
  "kernelspec": {
   "display_name": "Python 3.8.10 64-bit",
   "language": "python",
   "name": "python3"
  },
  "language_info": {
   "codemirror_mode": {
    "name": "ipython",
    "version": 3
   },
   "file_extension": ".py",
   "mimetype": "text/x-python",
   "name": "python",
   "nbconvert_exporter": "python",
   "pygments_lexer": "ipython3",
   "version": "3.8.10"
  },
  "vscode": {
   "interpreter": {
    "hash": "916dbcbb3f70747c44a77c7bcd40155683ae19c65e1c03b4aa3499c5328201f1"
   }
  }
 },
 "nbformat": 4,
 "nbformat_minor": 5
}
