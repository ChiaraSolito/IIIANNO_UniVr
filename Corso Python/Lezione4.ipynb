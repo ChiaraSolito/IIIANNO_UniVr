{
 "cells": [
  {
   "cell_type": "markdown",
   "id": "14d62d3b",
   "metadata": {},
   "source": [
    "# Lezione 4\n",
    "### Operazioni sulle liste, slice"
   ]
  },
  {
   "cell_type": "code",
   "execution_count": 4,
   "id": "1ab08d7a",
   "metadata": {},
   "outputs": [
    {
     "name": "stdout",
     "output_type": "stream",
     "text": [
      "[0, 1, 2, 3, 4]\n",
      "[0, 1, 2, 3, 4] [0, 1, 2, 3, 4]\n",
      "True False\n",
      "[0, 1, 2, 3, 4]\n",
      "[0, 2]\n",
      "[4, 3, 2, 1, 0]\n"
     ]
    }
   ],
   "source": [
    "l = [0, 1, 2, 3, 4]\n",
    "print(l[:])\n",
    "a = l\n",
    "b = l[:]\n",
    "print(a,b)\n",
    "print(a is l, b is l)\n",
    "c = l.copy() # uguale l[:]\n",
    "\n",
    "print(c)\n",
    "print(l[0:3:2])\n",
    "print(l[::-1])"
   ]
  },
  {
   "cell_type": "code",
   "execution_count": 3,
   "id": "3a2657db",
   "metadata": {},
   "outputs": [
    {
     "name": "stdout",
     "output_type": "stream",
     "text": [
      "[0, 0, 0, 0, 0, 0, 0, 0, 0, 0, 0, 3, 4]\n"
     ]
    }
   ],
   "source": [
    "l[1:3] = [0]*10\n",
    "print(l)"
   ]
  },
  {
   "cell_type": "code",
   "execution_count": 5,
   "id": "1650577f",
   "metadata": {},
   "outputs": [
    {
     "name": "stdout",
     "output_type": "stream",
     "text": [
      "Help on built-in function append:\n",
      "\n",
      "append(object, /) method of builtins.list instance\n",
      "    Append object to the end of the list.\n",
      "\n"
     ]
    }
   ],
   "source": [
    "help(l.append) #doc string"
   ]
  },
  {
   "cell_type": "markdown",
   "id": "e8e8e5be",
   "metadata": {},
   "source": [
    "### In, index, count"
   ]
  },
  {
   "cell_type": "code",
   "execution_count": 12,
   "id": "c613ec3c",
   "metadata": {},
   "outputs": [
    {
     "name": "stdout",
     "output_type": "stream",
     "text": [
      "3 is in 0\n",
      "5 is not in here\n"
     ]
    }
   ],
   "source": [
    "l = [3, 55, 7, 8]\n",
    "if 3 in l:\n",
    "    print(f'3 is in {l.index(3)}')\n",
    "if 5 not in l:\n",
    "    print('5 is not in here')\n",
    "else:\n",
    "    print(f'5 is in {l.index(5)}')\n"
   ]
  },
  {
   "cell_type": "code",
   "execution_count": 15,
   "id": "f9f9ef5b",
   "metadata": {},
   "outputs": [
    {
     "name": "stdout",
     "output_type": "stream",
     "text": [
      "100 [1, 4, 9, 16, 25, 36, 49, 64, 81, 100, 121, 144, 169, 196, 225, 256, 289, 324, 361, 400, 441, 484, 529, 576, 625, 676, 729, 784, 841, 900, 961, 1024, 1089, 1156, 1225, 1296, 1369, 1444, 1521, 1600, 1681, 1764, 1849, 1936, 2025, 2116, 2209, 2304, 2401, 2500, 2601, 2704, 2809, 2916, 3025, 3136, 3249, 3364, 3481, 3600, 3721, 3844, 3969, 4096, 4225, 4356, 4489, 4624, 4761, 4900, 5041, 5184, 5329, 5476, 5625, 5776, 5929, 6084, 6241, 6400, 6561, 6724, 6889, 7056, 7225, 7396, 7569, 7744, 7921, 8100, 8281, 8464, 8649, 8836, 9025, 9216, 9409, 9604, 9801, 10000]\n",
      "50 [4, 16, 36, 64, 100, 144, 196, 256, 324, 400, 484, 576, 676, 784, 900, 1024, 1156, 1296, 1444, 1600, 1764, 1936, 2116, 2304, 2500, 2704, 2916, 3136, 3364, 3600, 3844, 4096, 4356, 4624, 4900, 5184, 5476, 5776, 6084, 6400, 6724, 7056, 7396, 7744, 8100, 8464, 8836, 9216, 9604, 10000]\n"
     ]
    }
   ],
   "source": [
    "l = [x**2 for x in range(1, 101)]\n",
    "print(len(l),l)\n",
    "\n",
    "l = [x**2 for x in range(1, 101) if x % 2 == 0]\n",
    "print(len(l),l)\n"
   ]
  },
  {
   "cell_type": "markdown",
   "id": "8b8ef8a7",
   "metadata": {},
   "source": [
    "# Esercizio 1\n",
    "Un metodo numerico che si può usare per calcolare, in modo approssimato, la radice quadrata di un numero è il [metodo di newton](https://en.wikipedia.org/wiki/Newton%27s_method).\n",
    "Questo metodo parte da una prima stima della radice e migliora iterativamente il valore, avvicinandosi al risultato.\n",
    "Se vogliamo calcolare la radice quadrata di $x$, partendo dalla stima $s$, possiamo ottenere una stima migliore $s'$ usando la formula\n",
    "\\begin{equation}\n",
    "s' = \\frac{s + \\frac{x}{s}}{2}\n",
    "\\end{equation}\n",
    "Per esempio, se vogliamo calcolare la radice di 4 partendo dalla stima 4, otteniamo 2.5. Se applichiamo lo stesso metodo (usando 2.5 al posto di 4 come stima) otteniamo 2.05, un valore sempre più vicino al valore vero (2).\n",
    "\n",
    "Scrivete la funzione `migliora_stima(val, stima)`, che implementa la formula del metodo di newton per migliorare (di un passo) la stima della radice del numero val. Esso deve ritornare il valore migliorato della stima.\n",
    "Implementate poi la funzione `newton(val, stima)`, che prende un valore e una stima, e continua ad applicare `migliora_stima` finché la differenza tra due passi di miglioramento è < 0.0001. La funzione deve infine ritornare questa stima della radice.\n",
    "\n",
    "Potete confrontare la vostra tecnica con la funzione matematica `math.sqrt(val)`."
   ]
  },
  {
   "cell_type": "code",
   "execution_count": 33,
   "id": "4c39a35d",
   "metadata": {},
   "outputs": [
    {
     "name": "stdout",
     "output_type": "stream",
     "text": [
      "2.000000000021489 2.0\n",
      "2.000000000030325 2.0\n",
      "4.123105625623046 4.123105625617661\n"
     ]
    }
   ],
   "source": [
    "import math\n",
    "\n",
    "def migliora_stima(val, stima):\n",
    "    if(stima == 0 or val == 0):\n",
    "        return 0\n",
    "    return (stima + val/stima)/2\n",
    "\n",
    "def newton(val, stima):\n",
    "    while True:\n",
    "        tmp = stima\n",
    "        stima = migliora_stima(val, stima)\n",
    "        if((tmp - stima > 0 and tmp - stima  < 0.0001) or (stima - tmp > 0 and stima - tmp  < 0.0001)):\n",
    "            return stima\n",
    "\n",
    "\n",
    "print(newton(4, 10), math.sqrt(4))\n",
    "print(newton(4, 0.05), math.sqrt(4))\n",
    "print(newton(17, 10), math.sqrt(17))"
   ]
  },
  {
   "cell_type": "markdown",
   "id": "7f4cbcfd",
   "metadata": {},
   "source": [
    "# Esercizio 2\n",
    "Vogliamo indagare la validità dell'[ultimo teorema di fermat](https://en.wikipedia.org/wiki/Fermat%27s_Last_Theorem).\n",
    "Esso afferma che, dati tre numeri interi positivi $a, b, $ e $c$ e un numero intero $n$ maggiore o uguale a 2, l'espressione\n",
    "\\begin{equation}\n",
    "a^n + b^n = c^n\n",
    "\\end{equation}\n",
    "può essere vera se e solo se n è uguale a 2.\n",
    "Scrivete una funzione `verifica_fermat(a, b, c, n)` che verifica la validità del teorema in una data istanza.\n",
    "Questa funzione deve ritornare True se il teorema vale, o False altrimenti.\n",
    "\n",
    "Scrivete il metodo `testa_teorema(max_num, max_pot)` che serve a testare il teorema più volte. Esso deve usare `verifica_fermat` per ogni combinazione di $a, b, c$ con i numeri compre tra 1 e `max_num`, e li deve testare provando tutte le potenze comprese tra 2 e `max_pot`. Notate che `max_num` e `max_pot` devono essere inclusi nella ricerca.\n",
    "Per esempio, `testa_teorema(3, 3)` proverà a mettere $1, 2, 3$ in $a, b, c$ (in tutte le combinazioni possibili (1, 1, 1), (1, 1, 2), ...); proverà questo combinazioni usando $n = 2$ e $n = 3$.\n",
    "Se `testa_teorema` trova un caso in cui `verifica_fermat` è falso, esso deve stampare \"ho trovato un controesempio\" e fermarsi.\n",
    "Se invece alla fine di tutto non ha trovato nessun controesempio, esso deve stampare \"non ho trovato controesempi\"."
   ]
  },
  {
   "cell_type": "code",
   "execution_count": 1,
   "id": "89e57af7",
   "metadata": {},
   "outputs": [
    {
     "name": "stdout",
     "output_type": "stream",
     "text": [
      "ho trovato un controesempio\n",
      "ho trovato un controesempio\n",
      "ho trovato un controesempio\n"
     ]
    },
    {
     "data": {
      "text/plain": [
       "False"
      ]
     },
     "execution_count": 1,
     "metadata": {},
     "output_type": "execute_result"
    }
   ],
   "source": [
    "def verifica_fermat(a, b, c, n):\n",
    "    if(a**n + b**n == c**n):\n",
    "        return True\n",
    "    else:\n",
    "        return False\n",
    "\n",
    "def testa_teorema(max_num, max_pot):\n",
    "    for a in range(1, max_num + 1):\n",
    "        for b in range(1, max_num + 1):\n",
    "            for c in range(b + 1, max_num + 1):\n",
    "                for n in range(2, max_pot + 1):\n",
    "                    flag = verifica_fermat(a, b, c, n)\n",
    "                    if(not flag):\n",
    "                        print('ho trovato un controesempio')\n",
    "                        return\n",
    "    if(flag):\n",
    "        print('non ho trovato controesempi')\n",
    "\n",
    "\n",
    "testa_teorema(3,3)\n",
    "testa_teorema(100, 3)\n",
    "testa_teorema(20, 5)\n",
    "verifica_fermat(1,2,5,2)"
   ]
  },
  {
   "cell_type": "code",
   "execution_count": 2,
   "id": "feff7057",
   "metadata": {},
   "outputs": [
    {
     "data": {
      "text/plain": [
       "True"
      ]
     },
     "execution_count": 2,
     "metadata": {},
     "output_type": "execute_result"
    }
   ],
   "source": [
    "verifica_fermat(1,1,2,1)"
   ]
  },
  {
   "cell_type": "markdown",
   "id": "332cce31",
   "metadata": {},
   "source": [
    "# Esercizio 3\n",
    "Una tripletta di numeri che soddisfa il teorema quando $n = 2$ è nota come terna pitagoriga. Per esempio, (3, 4, 5) è una terna pittagorica corretta, perché $3^2 + 4^2 = 9 + 16 = 25 = 5^2$.\n",
    "Scrivere una funzione `terna_corretta(a, b, c)` che ritorni `True` se $a, b, c$ sono una terna pitagorica. Notate che l'ordine è importante, confronto sempre la somma delle potenze dei primi due elementi con la potenza del terzo elemento.\n",
    "\n",
    "Implementate poi la funzione `colleziona_terne(max_n)`. Questa funzione ritorna una lista di tuple che sono terne pitagoriche. Essa testa tutte le terne $(a, b, c)$ instanziate con tutte le possibili combinazioni di valori tra 1 e `max_n` (incluso). Usate la funzione `terna_corretta(a, b, c)` per identificare quali combinazioni vanno aggiunte alla collezione.\n",
    "Per esempio, `colleziona_terne(10)` ritorna la lista `[(3, 4, 5), (4, 3, 5), (6, 8, 10), (8, 6, 10)]`"
   ]
  },
  {
   "cell_type": "code",
   "execution_count": 10,
   "id": "974d5b6f",
   "metadata": {},
   "outputs": [
    {
     "name": "stdout",
     "output_type": "stream",
     "text": [
      "[[3, 4, 5], [4, 3, 5], [6, 8, 10], [8, 6, 10]]\n"
     ]
    }
   ],
   "source": [
    "def terna_corretta(a, b, c):\n",
    "    return a**2 + b**2 == c**2\n",
    "\n",
    "def colleziona_terne(max_n):\n",
    "    risultato = []\n",
    "    for i in range(1, max_n - 1):\n",
    "        for j in range(1, max_n - 1):\n",
    "            for k in range(i + 1, max_n + 1):\n",
    "                if(terna_corretta(i, j, k)):\n",
    "                    risultato.append([i,j,k])\n",
    "    return risultato\n",
    "\n",
    "print(colleziona_terne(10))"
   ]
  },
  {
   "cell_type": "code",
   "execution_count": 5,
   "id": "cfa9e3c8",
   "metadata": {},
   "outputs": [
    {
     "data": {
      "text/plain": [
       "False"
      ]
     },
     "execution_count": 5,
     "metadata": {},
     "output_type": "execute_result"
    }
   ],
   "source": [
    "terna_corretta(2,3,4)"
   ]
  },
  {
   "cell_type": "markdown",
   "id": "ea02270e",
   "metadata": {},
   "source": [
    "# Esercizio 4\n",
    "Implementate la funzione `nested_sum(l)`. Essa riceve in input una lista di liste di numeri interi $l$ e deve calcolare la somma di tutti i numeri presenti nelle liste contenute in `l`. Per esempio, `nested_sum(([[1,2,3], [5], [-1 , -1, -1]])` mi deve ritornare il valore `8`.\n",
    "\n",
    "Implementate la funzione `nested_compact(l)`. Essa riceve in input una lista di liste di numeri interi $l$ e deve costruire una nuova lista che contiene i numeri di $l$, ma senza ripetizioni. L'ordine dei numeri deve essere preservato, se un numero appare più volte, solo la primo occorrenza deve essere inserita nella lista finale.\n",
    "Per esempio, `nested_compact([[1, 2, 3], [-1, 3], [-2, -2]])` deve ritornare la lista `[1, 2, 3, -1, -2]`"
   ]
  },
  {
   "cell_type": "code",
   "execution_count": 32,
   "id": "2eacb19e",
   "metadata": {},
   "outputs": [
    {
     "name": "stdout",
     "output_type": "stream",
     "text": [
      "8\n",
      "[1, 2, 3, -1, -2]\n"
     ]
    }
   ],
   "source": [
    "def nested_sum(l):\n",
    "    k = 0\n",
    "    for i in l:\n",
    "        for j in i:\n",
    "            k += j\n",
    "    return k\n",
    "\n",
    "def nested_compact(l):\n",
    "    risultato = []\n",
    "    flag = True\n",
    "    for i in l:\n",
    "        for j in i:\n",
    "            for k in risultato:\n",
    "                if(k == j):\n",
    "                    flag = False\n",
    "            if(flag):\n",
    "                risultato.append(j)\n",
    "        flag = True      \n",
    "    return risultato\n",
    "\n",
    "print(nested_sum(([[1,2,3], [5], [-1 , -1, -1]])))\n",
    "print(nested_compact([[1, 2, 3], [-1, 3], [-2, -2]]))"
   ]
  },
  {
   "cell_type": "markdown",
   "id": "f94bf92e",
   "metadata": {},
   "source": [
    "# Esercizio 5\n",
    "Scrivere una funzione `esclamazioni(l)` che riceve una lista di stringhe e ritorna una nuova lista che segue i seguenti parametri:\n",
    "1. se una stringa non contiene il carattere `a` deve essere ignorata\n",
    "2. le stringhe che contengono il carattere `a` devono essere modificate, aggiungendo la stringa \"a \" prima della stringa originale, e la stringa \"!!!\" alla fine.\n",
    "3. infine, la lista finale deve essere ordinata in ordine alfabetico\n",
    "\n",
    "Per esempio, `esclamazioni([\"zebra\", ,\"lion\", \"gorilla\", \"tiger\"])` deve ritornare la lista `[\"a gorilla!!!\", \"a zebra!!!\"]`"
   ]
  },
  {
   "cell_type": "code",
   "execution_count": 36,
   "id": "e2125933",
   "metadata": {},
   "outputs": [
    {
     "name": "stdout",
     "output_type": "stream",
     "text": [
      "['a gorilla!!!', 'a zebra!!!']\n",
      "['a amo!!!', 'a trappola!!!', 'a zeta!!!']\n",
      "['a bacca!!!', 'a domato!!!', 'a zucca!!!']\n"
     ]
    }
   ],
   "source": [
    "def sort(l):\n",
    "    risultato = []\n",
    "    s = \"a\"\n",
    "    length = len(risultato)\n",
    "    while( length < len(l)):\n",
    "        for i in l:\n",
    "            if(i < s):\n",
    "                risultato.append(i)\n",
    "                l.remove(i)\n",
    "                s = i[0]\n",
    "        s = chr(ord(s) + 1)\n",
    "    return risultato\n",
    "\n",
    "def esclamazioni(l):\n",
    "    risultato = []\n",
    "    l = sort(l)\n",
    "    for s in l:\n",
    "        for c in s:\n",
    "            if(c == 'a'):\n",
    "                string = 'a ' + s + '!!!'\n",
    "                risultato.append(string)\n",
    "                break\n",
    "    return risultato\n",
    "    \n",
    "print(esclamazioni([\"zebra\" ,\"lion\", \"gorilla\", \"tiger\"]))\n",
    "print(esclamazioni([\"trappola\",\"zeta\",\"zorro\", \"amo\"]))\n",
    "print(esclamazioni([\"zucca\",\"becco\",\"bacca\",\"domato\",\"dosso\"]))"
   ]
  }
 ],
 "metadata": {
  "kernelspec": {
   "display_name": "Python 3",
   "language": "python",
   "name": "python3"
  },
  "language_info": {
   "codemirror_mode": {
    "name": "ipython",
    "version": 3
   },
   "file_extension": ".py",
   "mimetype": "text/x-python",
   "name": "python",
   "nbconvert_exporter": "python",
   "pygments_lexer": "ipython3",
   "version": "3.8.8"
  }
 },
 "nbformat": 4,
 "nbformat_minor": 5
}
