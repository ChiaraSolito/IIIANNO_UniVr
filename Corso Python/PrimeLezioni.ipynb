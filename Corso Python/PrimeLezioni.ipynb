{
 "cells": [
  {
   "cell_type": "markdown",
   "metadata": {},
   "source": [
    "# Esercizi Prima Lezione"
   ]
  },
  {
   "cell_type": "code",
   "execution_count": 2,
   "metadata": {},
   "outputs": [
    {
     "name": "stdout",
     "output_type": "stream",
     "text": [
      "Hello World\n",
      "3\n"
     ]
    }
   ],
   "source": [
    "print(\"Hello World\")\n",
    "a = 3\n",
    "print(a)"
   ]
  },
  {
   "cell_type": "code",
   "execution_count": 3,
   "metadata": {},
   "outputs": [
    {
     "name": "stdout",
     "output_type": "stream",
     "text": [
      "1031\n"
     ]
    },
    {
     "data": {
      "text/plain": [
       "3"
      ]
     },
     "execution_count": 3,
     "metadata": {},
     "output_type": "execute_result"
    }
   ],
   "source": [
    "print(2**10 + 7)\n",
    "1 + 2 #non viene stampato come print"
   ]
  },
  {
   "cell_type": "code",
   "execution_count": 4,
   "metadata": {},
   "outputs": [
    {
     "name": "stdout",
     "output_type": "stream",
     "text": [
      "Chiara Solito\n"
     ]
    }
   ],
   "source": [
    "print(\"Chiara Solito\")"
   ]
  },
  {
   "cell_type": "markdown",
   "metadata": {},
   "source": [
    "- doc string usa tre apici per creare una stringa su più righe, può funzioanre anche come documentazione nel codice\n",
    "- Stile comune prevede un limite di 79 caratteri per riga"
   ]
  },
  {
   "cell_type": "markdown",
   "metadata": {},
   "source": [
    "### Tipaggio"
   ]
  },
  {
   "cell_type": "code",
   "execution_count": 5,
   "metadata": {},
   "outputs": [
    {
     "data": {
      "text/plain": [
       "int"
      ]
     },
     "execution_count": 5,
     "metadata": {},
     "output_type": "execute_result"
    }
   ],
   "source": [
    "type(10)\n",
    "type(10//2)"
   ]
  },
  {
   "cell_type": "code",
   "execution_count": 6,
   "metadata": {},
   "outputs": [
    {
     "data": {
      "text/plain": [
       "float"
      ]
     },
     "execution_count": 6,
     "metadata": {},
     "output_type": "execute_result"
    }
   ],
   "source": [
    "type(10/2) # un numero intero viene promosso al numero con la virgola: promozione"
   ]
  },
  {
   "cell_type": "code",
   "execution_count": 7,
   "metadata": {},
   "outputs": [
    {
     "data": {
      "text/plain": [
       "int"
      ]
     },
     "execution_count": 7,
     "metadata": {},
     "output_type": "execute_result"
    }
   ],
   "source": [
    "type(10000000000000000000000000000000000000000000000000000000000000000)\n",
    "# è un intero: di solito vengono scritti in 32 o 64 bit\n",
    "#python usa una versione diversa in cui vengono trasformati in una lista di numeri di qualsiasi\n",
    "#dimensione, data a questo punto dalla capacità della macchina"
   ]
  },
  {
   "cell_type": "code",
   "execution_count": 2,
   "metadata": {},
   "outputs": [
    {
     "data": {
      "text/plain": [
       "str"
      ]
     },
     "execution_count": 2,
     "metadata": {},
     "output_type": "execute_result"
    }
   ],
   "source": [
    "type('ciao')\n",
    "type(\"ciao\")\n",
    "type(\"\"\"ciao\"\"\")"
   ]
  },
  {
   "cell_type": "code",
   "execution_count": 9,
   "metadata": {},
   "outputs": [
    {
     "data": {
      "text/plain": [
       "type"
      ]
     },
     "execution_count": 9,
     "metadata": {},
     "output_type": "execute_result"
    }
   ],
   "source": [
    "#class 'type' \n",
    "type(type(5))"
   ]
  },
  {
   "cell_type": "code",
   "execution_count": 10,
   "metadata": {},
   "outputs": [
    {
     "name": "stdout",
     "output_type": "stream",
     "text": [
      "5\n"
     ]
    },
    {
     "data": {
      "text/plain": [
       "NoneType"
      ]
     },
     "execution_count": 10,
     "metadata": {},
     "output_type": "execute_result"
    }
   ],
   "source": [
    "type(print(5))\n",
    "#Il codice dentro type viene comunque a sua volta eseguito\n",
    "#NoneType: la funzione print non ritorna nulla, quindi non mi rimane nessun print\n",
    "#print ha un side effect, modifica lo schermo, ma non ha tipi di ritorno"
   ]
  },
  {
   "cell_type": "code",
   "execution_count": 11,
   "metadata": {},
   "outputs": [
    {
     "data": {
      "text/plain": [
       "list"
      ]
     },
     "execution_count": 11,
     "metadata": {},
     "output_type": "execute_result"
    }
   ],
   "source": [
    "type([1,2,3])"
   ]
  },
  {
   "cell_type": "code",
   "execution_count": 12,
   "metadata": {},
   "outputs": [
    {
     "data": {
      "text/plain": [
       "float"
      ]
     },
     "execution_count": 12,
     "metadata": {},
     "output_type": "execute_result"
    }
   ],
   "source": [
    "type(2**(1/2))"
   ]
  },
  {
   "cell_type": "code",
   "execution_count": 13,
   "metadata": {},
   "outputs": [
    {
     "data": {
      "text/plain": [
       "complex"
      ]
     },
     "execution_count": 13,
     "metadata": {},
     "output_type": "execute_result"
    }
   ],
   "source": [
    "type((-2)**(1/2))\n",
    "#l'elevamento a potenza promuove a numero complesso solo quando davvero serve"
   ]
  },
  {
   "cell_type": "code",
   "execution_count": 14,
   "metadata": {},
   "outputs": [
    {
     "data": {
      "text/plain": [
       "dict"
      ]
     },
     "execution_count": 14,
     "metadata": {},
     "output_type": "execute_result"
    }
   ],
   "source": [
    "type({1:'prova',2:'prova',3:'prova'})"
   ]
  },
  {
   "cell_type": "markdown",
   "metadata": {},
   "source": [
    "Ogni variabile è un puntatore che fa riferimento a qualcosa da qualche parte, e per i tipi immutabili come i numeri, sono tutti contenuti nello stesso punto di memoria\\\n",
    "Non funziona così per tutto\\\n",
    "A livello di prestazioni questo costa molto"
   ]
  },
  {
   "cell_type": "code",
   "execution_count": 15,
   "metadata": {},
   "outputs": [
    {
     "name": "stdout",
     "output_type": "stream",
     "text": [
      "94246489615968\n",
      "94246489615968 94246489615968 94246489615968\n",
      "0x55b77888ee60\n"
     ]
    }
   ],
   "source": [
    "a = 10\n",
    "b = 10\n",
    "print(id(10))\n",
    "print(id(a), id(b),id(10))\n",
    "print(hex(id(10)))"
   ]
  },
  {
   "cell_type": "code",
   "execution_count": 16,
   "metadata": {},
   "outputs": [
    {
     "name": "stdout",
     "output_type": "stream",
     "text": [
      "True True\n"
     ]
    }
   ],
   "source": [
    "print(a is b,a is 10)"
   ]
  },
  {
   "cell_type": "markdown",
   "metadata": {},
   "source": [
    "### Esercizio\n",
    "Dichiarate una variabile pi =\n",
    "3.14 e una variabile r (lunga a\n",
    "piacere)\\\n",
    "Calcolte il volume di una sfera"
   ]
  },
  {
   "cell_type": "code",
   "execution_count": 25,
   "metadata": {},
   "outputs": [
    {
     "name": "stdout",
     "output_type": "stream",
     "text": [
      "4188.790204786391\n"
     ]
    }
   ],
   "source": [
    "import math as mt\n",
    "pi = 3.14\n",
    "r = 10\n",
    "V = (4/3) * mt.pi * r**3\n",
    "print(V)"
   ]
  },
  {
   "cell_type": "code",
   "execution_count": 31,
   "metadata": {},
   "outputs": [
    {
     "name": "stdout",
     "output_type": "stream",
     "text": [
      "provaprova\n"
     ]
    }
   ],
   "source": [
    "s1 = 'prova'*2\n",
    "print(s1)"
   ]
  },
  {
   "cell_type": "markdown",
   "metadata": {},
   "source": [
    "### Funzioni\n",
    "Una funzione è un modo di definire una procedura"
   ]
  },
  {
   "cell_type": "code",
   "execution_count": 33,
   "metadata": {},
   "outputs": [
    {
     "name": "stdout",
     "output_type": "stream",
     "text": [
      "ciaociao\n",
      "0x7f4d06b203b0\n",
      "ciaociao\n",
      "0x7f4d06b203b0\n"
     ]
    }
   ],
   "source": [
    "def stampa_memoria(x):\n",
    "    print(hex(id(x)))\n",
    "\n",
    "def stampa_due_volte(x):\n",
    "    print(x*2)\n",
    "\n",
    "stampa_due_volte('ciao')\n",
    "stampa_memoria('ciao')\n",
    "s1 = 'ciao'\n",
    "stampa_due_volte(s1)\n",
    "stampa_memoria(s1)"
   ]
  },
  {
   "cell_type": "markdown",
   "metadata": {},
   "source": [
    "### Scope variabili"
   ]
  },
  {
   "cell_type": "code",
   "execution_count": 34,
   "metadata": {},
   "outputs": [
    {
     "name": "stdout",
     "output_type": "stream",
     "text": [
      "ciao\n",
      "10\n"
     ]
    }
   ],
   "source": [
    "x = 'ciao'\n",
    "\n",
    "def modifica_locale():\n",
    "    x = 10\n",
    "\n",
    "def modifica_globale():\n",
    "    global x \n",
    "    x = 10\n",
    "\n",
    "modifica_locale()\n",
    "print(x)\n",
    "modifica_globale()\n",
    "print(x)"
   ]
  },
  {
   "cell_type": "markdown",
   "metadata": {},
   "source": [
    "### Liste"
   ]
  },
  {
   "cell_type": "code",
   "execution_count": 42,
   "metadata": {},
   "outputs": [
    {
     "name": "stdout",
     "output_type": "stream",
     "text": [
      "[[], [], [], [], [], [], [], [], [], []]\n",
      "[[1], [1], [1], [1], [1], [1], [1], [1], [1], [1]]\n",
      "[[], [], []]\n",
      "[[1], [], []]\n"
     ]
    }
   ],
   "source": [
    "init = [ [] ] * 10\n",
    "print(init)\n",
    "init[0].append(1)\n",
    "print(init)\n",
    "init = [[], [], []]\n",
    "print(init)\n",
    "init[0].append(1)\n",
    "print(init)"
   ]
  },
  {
   "cell_type": "code",
   "execution_count": 54,
   "metadata": {},
   "outputs": [
    {
     "name": "stdout",
     "output_type": "stream",
     "text": [
      "10000 0.16924166679382324\n",
      "0 99 1000\n"
     ]
    }
   ],
   "source": [
    "import time\n",
    "\n",
    "start = time.time()\n",
    "l = []\n",
    "\n",
    "for i in range(10000):\n",
    "    l.append(i)\n",
    "end = time.time()\n",
    "print(len(l), end-start)\n",
    "print(l[0], l[99], l[1000])"
   ]
  },
  {
   "cell_type": "code",
   "execution_count": 53,
   "metadata": {},
   "outputs": [
    {
     "name": "stdout",
     "output_type": "stream",
     "text": [
      "10000 0.26249194145202637\n",
      "0 99 1000\n"
     ]
    }
   ],
   "source": [
    "import time\n",
    "\n",
    "start = time.time()\n",
    "l2 = []\n",
    "\n",
    "for i in range(10000):\n",
    "    l2 = l2 + [i]\n",
    "end = time.time()\n",
    "print(len(l2), end-start)\n",
    "print(l2[0], l2[99], l2[1000])"
   ]
  },
  {
   "cell_type": "code",
   "execution_count": 62,
   "metadata": {},
   "outputs": [
    {
     "name": "stdout",
     "output_type": "stream",
     "text": [
      "['python', 0]\n",
      "['python', 0, 0]\n",
      "['python', 0, 0]\n",
      "['python', 0, 0, 0]\n",
      "['python', 0, 0]\n"
     ]
    }
   ],
   "source": [
    "def man_list(l):\n",
    "    l.append(0)\n",
    "    print(l)\n",
    "\n",
    "def man_list_alt(l):\n",
    "    l = l + [0]\n",
    "    print(l)\n",
    "\n",
    "l = ['python']\n",
    "man_list(l)\n",
    "man_list(l)\n",
    "print(l)\n",
    "man_list_alt(l)\n",
    "print(l)\n",
    "\n",
    "#le liste non sono il miglior strumento per fare programmi ad alta prestazione"
   ]
  },
  {
   "cell_type": "markdown",
   "metadata": {},
   "source": [
    "## If, Else, For, While, Tuple"
   ]
  },
  {
   "cell_type": "code",
   "execution_count": 2,
   "metadata": {},
   "outputs": [
    {
     "name": "stdout",
     "output_type": "stream",
     "text": [
      "bocciato\n"
     ]
    }
   ],
   "source": [
    "voto = 17\n",
    "if voto >= 18:\n",
    "    print('complimenti!')\n",
    "    print('promosso')\n",
    "else:\n",
    "    print('bocciato')"
   ]
  },
  {
   "cell_type": "code",
   "execution_count": null,
   "metadata": {},
   "outputs": [],
   "source": []
  }
 ],
 "metadata": {
  "interpreter": {
   "hash": "916dbcbb3f70747c44a77c7bcd40155683ae19c65e1c03b4aa3499c5328201f1"
  },
  "kernelspec": {
   "display_name": "Python 3.8.10 64-bit",
   "language": "python",
   "name": "python3"
  },
  "language_info": {
   "codemirror_mode": {
    "name": "ipython",
    "version": 3
   },
   "file_extension": ".py",
   "mimetype": "text/x-python",
   "name": "python",
   "nbconvert_exporter": "python",
   "pygments_lexer": "ipython3",
   "version": "3.8.10"
  },
  "orig_nbformat": 4
 },
 "nbformat": 4,
 "nbformat_minor": 2
}
