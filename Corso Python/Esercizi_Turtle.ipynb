{
 "cells": [
  {
   "cell_type": "markdown",
   "id": "1db2f795",
   "metadata": {},
   "source": [
    "# Esercitazione 1 - Turtle\n",
    "Questa esercitazione serve a prendere familiarità con alcuni delle istruzioni python viste fino a ora. In particolare, ci concentriamo sulla dichiarazione e sull'uso di variabili e funzioni.\n",
    "\n",
    "Quest'esercitazione è basata sul quarto capitolo del libro \"Think python\", disponibile gratuitamente sul [sito dell'autore](https://greenteapress.com/wp/think-python-2e/).\n",
    "Una traduzione italiana, poco aggiornata, si può trovare in [questo repository](https://github.com/AllenDowney/ThinkPythonItalian).\n",
    "\n",
    "## Turtle Graphic\n",
    "In questa esercitazione useremo una \"tartaruga digitale\" per creare disegni geometrici. Lo facciamo usando un implementazione python di [LOGO](https://it.wikipedia.org/wiki/Logo_(informatica)).\n",
    "\n",
    "Per creare una tartaruga, importiamo la libreria e creiamo un *oggetto* Turtle."
   ]
  },
  {
   "cell_type": "code",
   "execution_count": 3,
   "id": "ece56e84",
   "metadata": {
    "scrolled": true
   },
   "outputs": [
    {
     "name": "stdout",
     "output_type": "stream",
     "text": [
      "<turtle.Turtle object at 0x7faf29fcf2e0> <class 'turtle.Turtle'>\n"
     ]
    }
   ],
   "source": [
    "# importiamo il modulo\n",
    "import turtle\n",
    "\n",
    "# creiamo l'oggetto. Il nome è arbitrario.\n",
    "# l'oggetto Turtle è nella libreria turtle (notare maiuscole e minuscole)\n",
    "donatello = turtle.Turtle()\n",
    "\n",
    "# stampiamo oggetto e tipo, per capire meglio come è fatto\n",
    "print(donatello, type(donatello))\n",
    "\n",
    "# questa funzione crea un interfaccia con la tartaruga\n",
    "turtle.mainloop()"
   ]
  },
  {
   "cell_type": "markdown",
   "id": "f6df17ab",
   "metadata": {},
   "source": [
    "La nostra tartaruga, per adesso, non fa niente. Per muoverla possiamo usare il metodo **fd** (oppure **forward**) per farla muovere in avanti di una certa lunghezza oppure **lt** (o **left**) per farla girare a sinistra di un certo numero di gradi. Notate che questo è un programma indipendente dal precedente, potrebbe essere necessario resettare il notebook (con il pulsante \"restart the kernel\", oppure premendo due volte zero, **0, 0**)."
   ]
  },
  {
   "cell_type": "code",
   "execution_count": 4,
   "id": "e36ca646",
   "metadata": {},
   "outputs": [
    {
     "ename": "Terminator",
     "evalue": "",
     "output_type": "error",
     "traceback": [
      "\u001b[0;31m---------------------------------------------------------------------------\u001b[0m",
      "\u001b[0;31mTerminator\u001b[0m                                Traceback (most recent call last)",
      "\u001b[1;32m/home/chiara/Documents/Git/IIIANNO_UniVr/Corso Python/Esercizi_Turtle.ipynb Cell 4'\u001b[0m in \u001b[0;36m<cell line: 5>\u001b[0;34m()\u001b[0m\n\u001b[1;32m      <a href='vscode-notebook-cell:/home/chiara/Documents/Git/IIIANNO_UniVr/Corso%20Python/Esercizi_Turtle.ipynb#ch0000003?line=0'>1</a>\u001b[0m \u001b[39mimport\u001b[39;00m \u001b[39mturtle\u001b[39;00m\n\u001b[1;32m      <a href='vscode-notebook-cell:/home/chiara/Documents/Git/IIIANNO_UniVr/Corso%20Python/Esercizi_Turtle.ipynb#ch0000003?line=2'>3</a>\u001b[0m \u001b[39m# creiamo l'oggetto. Il nome è arbitrario.\u001b[39;00m\n\u001b[1;32m      <a href='vscode-notebook-cell:/home/chiara/Documents/Git/IIIANNO_UniVr/Corso%20Python/Esercizi_Turtle.ipynb#ch0000003?line=3'>4</a>\u001b[0m \u001b[39m# l'oggetto Turtle è nella libreria turtle (notare maiuscole e minuscole)\u001b[39;00m\n\u001b[0;32m----> <a href='vscode-notebook-cell:/home/chiara/Documents/Git/IIIANNO_UniVr/Corso%20Python/Esercizi_Turtle.ipynb#ch0000003?line=4'>5</a>\u001b[0m donatello \u001b[39m=\u001b[39m turtle\u001b[39m.\u001b[39;49mTurtle()\n\u001b[1;32m      <a href='vscode-notebook-cell:/home/chiara/Documents/Git/IIIANNO_UniVr/Corso%20Python/Esercizi_Turtle.ipynb#ch0000003?line=6'>7</a>\u001b[0m \u001b[39m# specifichiamo i comandi: avanza di 100, gira a sinistra di 90 gradi, avanza ancora\u001b[39;00m\n\u001b[1;32m      <a href='vscode-notebook-cell:/home/chiara/Documents/Git/IIIANNO_UniVr/Corso%20Python/Esercizi_Turtle.ipynb#ch0000003?line=7'>8</a>\u001b[0m donatello\u001b[39m.\u001b[39mforward(\u001b[39m100\u001b[39m)\n",
      "File \u001b[0;32m/usr/lib/python3.8/turtle.py:3814\u001b[0m, in \u001b[0;36mTurtle.__init__\u001b[0;34m(self, shape, undobuffersize, visible)\u001b[0m\n\u001b[1;32m   <a href='file:///usr/lib/python3.8/turtle.py?line=3811'>3812</a>\u001b[0m \u001b[39mif\u001b[39;00m Turtle\u001b[39m.\u001b[39m_screen \u001b[39mis\u001b[39;00m \u001b[39mNone\u001b[39;00m:\n\u001b[1;32m   <a href='file:///usr/lib/python3.8/turtle.py?line=3812'>3813</a>\u001b[0m     Turtle\u001b[39m.\u001b[39m_screen \u001b[39m=\u001b[39m Screen()\n\u001b[0;32m-> <a href='file:///usr/lib/python3.8/turtle.py?line=3813'>3814</a>\u001b[0m RawTurtle\u001b[39m.\u001b[39;49m\u001b[39m__init__\u001b[39;49m(\u001b[39mself\u001b[39;49m, Turtle\u001b[39m.\u001b[39;49m_screen,\n\u001b[1;32m   <a href='file:///usr/lib/python3.8/turtle.py?line=3814'>3815</a>\u001b[0m                    shape\u001b[39m=\u001b[39;49mshape,\n\u001b[1;32m   <a href='file:///usr/lib/python3.8/turtle.py?line=3815'>3816</a>\u001b[0m                    undobuffersize\u001b[39m=\u001b[39;49mundobuffersize,\n\u001b[1;32m   <a href='file:///usr/lib/python3.8/turtle.py?line=3816'>3817</a>\u001b[0m                    visible\u001b[39m=\u001b[39;49mvisible)\n",
      "File \u001b[0;32m/usr/lib/python3.8/turtle.py:2558\u001b[0m, in \u001b[0;36mRawTurtle.__init__\u001b[0;34m(self, canvas, shape, undobuffersize, visible)\u001b[0m\n\u001b[1;32m   <a href='file:///usr/lib/python3.8/turtle.py?line=2555'>2556</a>\u001b[0m \u001b[39mself\u001b[39m\u001b[39m.\u001b[39m_undobuffersize \u001b[39m=\u001b[39m undobuffersize\n\u001b[1;32m   <a href='file:///usr/lib/python3.8/turtle.py?line=2556'>2557</a>\u001b[0m \u001b[39mself\u001b[39m\u001b[39m.\u001b[39mundobuffer \u001b[39m=\u001b[39m Tbuffer(undobuffersize)\n\u001b[0;32m-> <a href='file:///usr/lib/python3.8/turtle.py?line=2557'>2558</a>\u001b[0m \u001b[39mself\u001b[39;49m\u001b[39m.\u001b[39;49m_update()\n",
      "File \u001b[0;32m/usr/lib/python3.8/turtle.py:2661\u001b[0m, in \u001b[0;36mRawTurtle._update\u001b[0;34m(self)\u001b[0m\n\u001b[1;32m   <a href='file:///usr/lib/python3.8/turtle.py?line=2658'>2659</a>\u001b[0m     \u001b[39mreturn\u001b[39;00m\n\u001b[1;32m   <a href='file:///usr/lib/python3.8/turtle.py?line=2659'>2660</a>\u001b[0m \u001b[39melif\u001b[39;00m screen\u001b[39m.\u001b[39m_tracing \u001b[39m==\u001b[39m \u001b[39m1\u001b[39m:\n\u001b[0;32m-> <a href='file:///usr/lib/python3.8/turtle.py?line=2660'>2661</a>\u001b[0m     \u001b[39mself\u001b[39;49m\u001b[39m.\u001b[39;49m_update_data()\n\u001b[1;32m   <a href='file:///usr/lib/python3.8/turtle.py?line=2661'>2662</a>\u001b[0m     \u001b[39mself\u001b[39m\u001b[39m.\u001b[39m_drawturtle()\n\u001b[1;32m   <a href='file:///usr/lib/python3.8/turtle.py?line=2662'>2663</a>\u001b[0m     screen\u001b[39m.\u001b[39m_update()                  \u001b[39m# TurtleScreenBase\u001b[39;00m\n",
      "File \u001b[0;32m/usr/lib/python3.8/turtle.py:2647\u001b[0m, in \u001b[0;36mRawTurtle._update_data\u001b[0;34m(self)\u001b[0m\n\u001b[1;32m   <a href='file:///usr/lib/python3.8/turtle.py?line=2645'>2646</a>\u001b[0m \u001b[39mdef\u001b[39;00m \u001b[39m_update_data\u001b[39m(\u001b[39mself\u001b[39m):\n\u001b[0;32m-> <a href='file:///usr/lib/python3.8/turtle.py?line=2646'>2647</a>\u001b[0m     \u001b[39mself\u001b[39;49m\u001b[39m.\u001b[39;49mscreen\u001b[39m.\u001b[39;49m_incrementudc()\n\u001b[1;32m   <a href='file:///usr/lib/python3.8/turtle.py?line=2647'>2648</a>\u001b[0m     \u001b[39mif\u001b[39;00m \u001b[39mself\u001b[39m\u001b[39m.\u001b[39mscreen\u001b[39m.\u001b[39m_updatecounter \u001b[39m!=\u001b[39m \u001b[39m0\u001b[39m:\n\u001b[1;32m   <a href='file:///usr/lib/python3.8/turtle.py?line=2648'>2649</a>\u001b[0m         \u001b[39mreturn\u001b[39;00m\n",
      "File \u001b[0;32m/usr/lib/python3.8/turtle.py:1293\u001b[0m, in \u001b[0;36mTurtleScreen._incrementudc\u001b[0;34m(self)\u001b[0m\n\u001b[1;32m   <a href='file:///usr/lib/python3.8/turtle.py?line=1290'>1291</a>\u001b[0m \u001b[39mif\u001b[39;00m \u001b[39mnot\u001b[39;00m TurtleScreen\u001b[39m.\u001b[39m_RUNNING:\n\u001b[1;32m   <a href='file:///usr/lib/python3.8/turtle.py?line=1291'>1292</a>\u001b[0m     TurtleScreen\u001b[39m.\u001b[39m_RUNNING \u001b[39m=\u001b[39m \u001b[39mTrue\u001b[39;00m\n\u001b[0;32m-> <a href='file:///usr/lib/python3.8/turtle.py?line=1292'>1293</a>\u001b[0m     \u001b[39mraise\u001b[39;00m Terminator\n\u001b[1;32m   <a href='file:///usr/lib/python3.8/turtle.py?line=1293'>1294</a>\u001b[0m \u001b[39mif\u001b[39;00m \u001b[39mself\u001b[39m\u001b[39m.\u001b[39m_tracing \u001b[39m>\u001b[39m \u001b[39m0\u001b[39m:\n\u001b[1;32m   <a href='file:///usr/lib/python3.8/turtle.py?line=1294'>1295</a>\u001b[0m     \u001b[39mself\u001b[39m\u001b[39m.\u001b[39m_updatecounter \u001b[39m+\u001b[39m\u001b[39m=\u001b[39m \u001b[39m1\u001b[39m\n",
      "\u001b[0;31mTerminator\u001b[0m: "
     ]
    }
   ],
   "source": [
    "import turtle\n",
    "\n",
    "# creiamo l'oggetto. Il nome è arbitrario.\n",
    "# l'oggetto Turtle è nella libreria turtle (notare maiuscole e minuscole)\n",
    "donatello = turtle.Turtle()\n",
    "\n",
    "# specifichiamo i comandi: avanza di 100, gira a sinistra di 90 gradi, avanza ancora\n",
    "donatello.forward(100)\n",
    "donatello.left(90)\n",
    "donatello.forward(100)\n",
    "\n",
    "# adesso la tartaruga si muove\n",
    "turtle.mainloop()"
   ]
  },
  {
   "cell_type": "markdown",
   "id": "14a66cfb",
   "metadata": {},
   "source": [
    "A lezione abbiamo visto come usare **for** per ripetere più volte lo stesso comando, proviamolo:"
   ]
  },
  {
   "cell_type": "code",
   "execution_count": null,
   "id": "d8cc9d4c",
   "metadata": {},
   "outputs": [
    {
     "ename": "",
     "evalue": "",
     "output_type": "error",
     "traceback": [
      "\u001b[1;31mJupyter cannot be started. Error attempting to locate jupyter: Running cells with 'Python 3.8.10 64-bit' requires jupyter and notebook package.\n",
      "Run the following command to install 'jupyter and notebook' into the Python environment. \n",
      "Command: 'python -m pip install jupyter notebook -U\n",
      "or\n",
      "conda install jupyter notebook -U'\n",
      "Click <a href='https://aka.ms/installJupyterForVSCode'>here</a> for more info."
     ]
    }
   ],
   "source": [
    "import turtle\n",
    "\n",
    "# creiamo l'oggetto. Il nome è arbitrario.\n",
    "# l'oggetto Turtle è nella libreria turtle (notare maiuscole e minuscole)\n",
    "donatello = turtle.Turtle()\n",
    "\n",
    "# ripeti 4 volte una coppia di comandi: avanza e gira\n",
    "for i in range(4):\n",
    "    donatello.forward(100)\n",
    "    donatello.left(90)\n",
    "    \n",
    "# Adesso disegniamo un quadrato\n",
    "turtle.mainloop()"
   ]
  },
  {
   "cell_type": "markdown",
   "id": "27fe2271",
   "metadata": {},
   "source": [
    "## Funzioni\n",
    "Il capitolo procede con una serie di esercizi. Chiede di creare una serie di funzioni di difficoltà crescente. Di seguito, trovate le soluzioni."
   ]
  },
  {
   "cell_type": "code",
   "execution_count": null,
   "id": "4b4370d3",
   "metadata": {},
   "outputs": [
    {
     "ename": "",
     "evalue": "",
     "output_type": "error",
     "traceback": [
      "\u001b[1;31mJupyter cannot be started. Error attempting to locate jupyter: Running cells with 'Python 3.8.10 64-bit' requires jupyter and notebook package.\n",
      "Run the following command to install 'jupyter and notebook' into the Python environment. \n",
      "Command: 'python -m pip install jupyter notebook -U\n",
      "or\n",
      "conda install jupyter notebook -U'\n",
      "Click <a href='https://aka.ms/installJupyterForVSCode'>here</a> for more info."
     ]
    }
   ],
   "source": [
    "import turtle\n",
    "import math\n",
    "\n",
    "def square(t, l):\n",
    "    \"\"\" disegna un quadrato di lunghezza <l> con la tartaruga <t>\"\"\"\n",
    "    for i in range(4):\n",
    "        t.fd(l)\n",
    "        t.lt(90)\n",
    "\n",
    "def polygon(t, n, l):\n",
    "    \"\"\" disegna un poligono di <n> lati di lunghezza <l> con la tartaruga <t>\"\"\"\n",
    "    for i in range(n):\n",
    "        t.fd(l)\n",
    "        t.lt(360/n)\n",
    "\n",
    "def circle(t, r):\n",
    "    \"\"\" disegna un cerchio di raggio <r> con la targaruga <t>\"\"\"\n",
    "    circonferenza = 2 * math.pi * r \n",
    "    # approssima un cerchio con n linee di lunghezza l\n",
    "    n = int(circonferenza/3) + 3\n",
    "    l = circonferenza / n\n",
    "    polygon(t, n, l)\n",
    "\n",
    "def arc(t, r, a):\n",
    "    \"\"\" disegna un arco di cerchio di raggio <r> e angolo <a> usando la tartaruga <t>\"\"\"\n",
    "    lunghezza_arco = (2 * math.pi * r * a) / 360 \n",
    "    n = int(lunghezza_arco/3) + 1\n",
    "    lunghezza_passo = lunghezza_arco / n\n",
    "    angolo_passo = a / n\n",
    "    for i in range(n):\n",
    "        t.fd(lunghezza_passo)\n",
    "        t.lt(angolo_passo)\n",
    "        \n",
    "squirtle = turtle.Turtle()\n",
    "\n",
    "# Potete provare a chiamare altre funzioni e usare parametri diversi per\n",
    "# disegnare figure alternative\n",
    "square(squirtle, 100)\n",
    "polygon(squirtle, 6, 100)\n",
    "circle(squirtle, 100)\n",
    "arc(squirtle, 100, 90)\n",
    "arc(squirtle, 150, 90)\n",
    "arc(squirtle, 200, 90)\n",
    "arc(squirtle, 250, 90)\n",
    "\n",
    "turtle.mainloop()"
   ]
  },
  {
   "cell_type": "markdown",
   "id": "63574d79",
   "metadata": {},
   "source": [
    "## Refactoring\n",
    "Nel programma precedente, ogni funzione lavora in modo indipendente. Si può notare che c'è molta sovrapposizione tra le varie funzioni. Si può quindi rifattorizzare il codice, ovvero ristrutturarlo per minimizzare le ripetizioni."
   ]
  },
  {
   "cell_type": "code",
   "execution_count": null,
   "id": "c46504ec",
   "metadata": {},
   "outputs": [
    {
     "ename": "",
     "evalue": "",
     "output_type": "error",
     "traceback": [
      "\u001b[1;31mJupyter cannot be started. Error attempting to locate jupyter: Running cells with 'Python 3.8.10 64-bit' requires jupyter and notebook package.\n",
      "Run the following command to install 'jupyter and notebook' into the Python environment. \n",
      "Command: 'python -m pip install jupyter notebook -U\n",
      "or\n",
      "conda install jupyter notebook -U'\n",
      "Click <a href='https://aka.ms/installJupyterForVSCode'>here</a> for more info."
     ]
    }
   ],
   "source": [
    "import turtle\n",
    "import math\n",
    "\n",
    "# introduciamo una funzione generica polyline che farà da base alle altre\n",
    "def polyline(t, n, l, a):\n",
    "    \"\"\"\n",
    "    disegna una poli-linea con <n> lati di lunghezza <l>\n",
    "    separati da un angolo <a>. <t> è una tartaruga\n",
    "    \"\"\"\n",
    "    for i in range(n):\n",
    "        t.fd(l)\n",
    "        t.lt(a)\n",
    "\n",
    "# disegno poligoni usando polyline       \n",
    "def polygon(t, n, l):\n",
    "    \"\"\" disegna un poligono di <n> lati di lunghezza <l> con la tartaruga <t>\"\"\"\n",
    "    angle = 360.0 / n\n",
    "    polyline(t, n, l, angle)\n",
    "\n",
    "# il quadrato è un sottocaso dei poligoni\n",
    "def square(t, l):\n",
    "    \"\"\" disegna un quadrato di lunghezza <l> con la tartaruga <t>\"\"\"\n",
    "    polygon(t, 4, l)\n",
    "\n",
    "# con polyline possiamo semplificare arc\n",
    "def arc(t, r, a):\n",
    "    \"\"\" disegna un arco di cerchio di raggio <r> e angolo <a> usando la tartaruga <t>\"\"\"\n",
    "    lunghezza_arco = (2 * math.pi * r * a) / 360 \n",
    "    n = int(lunghezza_arco/3) + 1\n",
    "    lunghezza_passo = lunghezza_arco / n\n",
    "    angolo_passo = a / n\n",
    "    polyline(t, n, lunghezza_passo, angolo_passo)\n",
    "        \n",
    "# circle è un sottocaso di arc\n",
    "def circle(t, r):\n",
    "    \"\"\" disegna un cerchio di raggio <r> con la targaruga <t>\"\"\"\n",
    "    arc(t, r, 360)\n",
    "\n",
    "squirtle = turtle.Turtle()\n",
    "\n",
    "# Potete provare a modificare chiamare altre funzioni e usare parametri diversi per\n",
    "# disegnare figure alternative\n",
    "square(squirtle, 100)\n",
    "polygon(squirtle, 6, 100)\n",
    "circle(squirtle, 100)\n",
    "arc(squirtle, 100, 90)\n",
    "arc(squirtle, 150, 90)\n",
    "arc(squirtle, 200, 90)\n",
    "arc(squirtle, 250, 90)\n",
    "\n",
    "turtle.mainloop()"
   ]
  }
 ],
 "metadata": {
  "interpreter": {
   "hash": "916dbcbb3f70747c44a77c7bcd40155683ae19c65e1c03b4aa3499c5328201f1"
  },
  "kernelspec": {
   "display_name": "Python 3.8.10 64-bit",
   "language": "python",
   "name": "python3"
  },
  "language_info": {
   "codemirror_mode": {
    "name": "ipython",
    "version": 3
   },
   "file_extension": ".py",
   "mimetype": "text/x-python",
   "name": "python",
   "nbconvert_exporter": "python",
   "pygments_lexer": "ipython3",
   "version": "3.8.10"
  }
 },
 "nbformat": 4,
 "nbformat_minor": 5
}
