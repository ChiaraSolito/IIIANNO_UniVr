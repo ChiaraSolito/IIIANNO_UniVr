{
 "cells": [
  {
   "cell_type": "code",
   "execution_count": 1,
   "id": "5f85dc14",
   "metadata": {},
   "outputs": [
    {
     "name": "stdout",
     "output_type": "stream",
     "text": [
      "3.141592653589793\n",
      "3.141592653589793\n",
      "3.141592653589793\n"
     ]
    }
   ],
   "source": [
    "# importa il modulo\n",
    "import math\n",
    "# devo explictare il modulo\n",
    "print(math.pi)\n",
    "\n",
    "# importa solo uno elemento\n",
    "from math import pi\n",
    "# posso usarli direttamente\n",
    "print(pi)\n",
    "\n",
    "# m è un alias di math\n",
    "import math as m\n",
    "print(m.pi)"
   ]
  },
  {
   "cell_type": "code",
   "execution_count": 2,
   "id": "e621eccc",
   "metadata": {},
   "outputs": [
    {
     "ename": "ModuleNotFoundError",
     "evalue": "No module named 'my_module'",
     "output_type": "error",
     "traceback": [
      "\u001b[0;31m---------------------------------------------------------------------------\u001b[0m",
      "\u001b[0;31mModuleNotFoundError\u001b[0m                       Traceback (most recent call last)",
      "\u001b[1;32m/home/chiara/Documents/Git/IIIANNO_UniVr/Corso Python/Lezione8.ipynb Cell 2'\u001b[0m in \u001b[0;36m<cell line: 1>\u001b[0;34m()\u001b[0m\n\u001b[0;32m----> <a href='vscode-notebook-cell:/home/chiara/Documents/Git/IIIANNO_UniVr/Corso%20Python/Lezione8.ipynb#ch0000001?line=0'>1</a>\u001b[0m \u001b[39mimport\u001b[39;00m \u001b[39mmy_module\u001b[39;00m\n\u001b[1;32m      <a href='vscode-notebook-cell:/home/chiara/Documents/Git/IIIANNO_UniVr/Corso%20Python/Lezione8.ipynb#ch0000001?line=2'>3</a>\u001b[0m \u001b[39mprint\u001b[39m(my_module\u001b[39m.\u001b[39msomma_1(\u001b[39m5\u001b[39m))\n",
      "\u001b[0;31mModuleNotFoundError\u001b[0m: No module named 'my_module'"
     ]
    }
   ],
   "source": [
    "import my_module\n",
    "\n",
    "print(my_module.somma_1(5))"
   ]
  },
  {
   "cell_type": "code",
   "execution_count": null,
   "id": "49f56afc",
   "metadata": {
    "scrolled": true
   },
   "outputs": [],
   "source": [
    "import numpy as np\n",
    "\n",
    "# array di 10 elementi posti a zero\n",
    "v = np.zeros(10)\n",
    "print(v)\n",
    "print(type(v), v.dtype, v.shape)"
   ]
  },
  {
   "cell_type": "code",
   "execution_count": null,
   "id": "ea72e52f",
   "metadata": {},
   "outputs": [],
   "source": [
    "a = np.array([1,2, 3, 4], dtype = float)"
   ]
  },
  {
   "cell_type": "code",
   "execution_count": null,
   "id": "7d06f798",
   "metadata": {},
   "outputs": [],
   "source": [
    "v = np.zeros((2, 10))\n",
    "print(v)"
   ]
  },
  {
   "cell_type": "code",
   "execution_count": null,
   "id": "730ccbef",
   "metadata": {
    "scrolled": true
   },
   "outputs": [],
   "source": [
    "print(v.T)\n",
    "print(v.shape, v.T.shape)"
   ]
  },
  {
   "cell_type": "code",
   "execution_count": null,
   "id": "024bb813",
   "metadata": {
    "scrolled": true
   },
   "outputs": [],
   "source": [
    "print(v.reshape((1,20)))"
   ]
  },
  {
   "cell_type": "code",
   "execution_count": null,
   "id": "70457d57",
   "metadata": {
    "scrolled": true
   },
   "outputs": [],
   "source": [
    "a = np.arange(25).reshape((5, 5))\n",
    "print(a)\n",
    "print(a[0, 0]) #riga 0 colonna 0\n",
    "print(a[2, 3]) #riga 2 colonna 3"
   ]
  },
  {
   "cell_type": "code",
   "execution_count": null,
   "id": "591d42e9",
   "metadata": {},
   "outputs": [],
   "source": [
    "# posso anche passare liste di posizioni, questo mi crea un array compattato con i valori desiderati\n",
    "print(a[[0, 2], [0, 3]])"
   ]
  },
  {
   "cell_type": "code",
   "execution_count": null,
   "id": "e5cf6a08",
   "metadata": {},
   "outputs": [],
   "source": [
    "# slice \n",
    "print(a[1:2, :])"
   ]
  },
  {
   "cell_type": "code",
   "execution_count": null,
   "id": "c97abed1",
   "metadata": {},
   "outputs": [],
   "source": [
    "print(a[::-1, :3])"
   ]
  },
  {
   "cell_type": "code",
   "execution_count": null,
   "id": "aca0317e",
   "metadata": {
    "scrolled": true
   },
   "outputs": [],
   "source": [
    "# esempio extra: un immagine è un array di pixel (ovvero, array a 3 dimensioni!)\n",
    "import matplotlib.pyplot as plt\n",
    "plt.rcParams['figure.figsize'] = [10, 6]\n",
    "\n",
    "img = plt.imread('arena.png')\n",
    "plt.imshow(img)\n",
    "plt.show()"
   ]
  },
  {
   "cell_type": "code",
   "execution_count": null,
   "id": "81a1ce1b",
   "metadata": {},
   "outputs": [],
   "source": [
    "plt.imshow(img[:500, 200:400])\n",
    "plt.show()"
   ]
  },
  {
   "cell_type": "code",
   "execution_count": null,
   "id": "0fda722a",
   "metadata": {
    "scrolled": true
   },
   "outputs": [],
   "source": [
    "plt.imshow(img[::3, ::3])\n",
    "plt.show()"
   ]
  },
  {
   "cell_type": "code",
   "execution_count": null,
   "id": "d8383ab3",
   "metadata": {},
   "outputs": [],
   "source": [
    "a = np.array([1.0, 2.3, 7, 2])\n",
    "b = np.array([3.2, 1.0, 1, 0.5])\n",
    "\n",
    "# vectorize operation\n",
    "print(a + b)\n",
    "print(a * b)\n",
    "print(a / b)\n",
    "print(a ** b)\n",
    "print(a * 10)"
   ]
  },
  {
   "cell_type": "code",
   "execution_count": null,
   "id": "ddbcd141",
   "metadata": {},
   "outputs": [],
   "source": [
    "# esistono moltissime universal functions (otim per array)\n",
    "np.sin(a)"
   ]
  },
  {
   "cell_type": "code",
   "execution_count": null,
   "id": "08fb0009",
   "metadata": {},
   "outputs": [],
   "source": [
    "a = np.arange(10).reshape(2,5)\n",
    "b = np.arange(10).reshape(5,2)\n",
    "print(a @ b)\n",
    "print(b @ a)"
   ]
  },
  {
   "cell_type": "code",
   "execution_count": null,
   "id": "2d32455d",
   "metadata": {},
   "outputs": [],
   "source": [
    "# gli errori si propagano (in nan o altro)\n",
    "a = np.array([1.0, 2.3, 7, -2])\n",
    "b = np.array([3.2, 1.0, 0, 0.5])\n",
    "\n",
    "# vectorize operation\n",
    "print(a + b)\n",
    "print(a * b)\n",
    "print(a / b)\n",
    "print(a ** b)\n",
    "print(a * 10)"
   ]
  },
  {
   "cell_type": "code",
   "execution_count": null,
   "id": "e93ec111",
   "metadata": {},
   "outputs": [],
   "source": [
    "# fancy indexing (by value)\n",
    "a = np.array([-1, -3, 1, 4, -6, 9, 3])\n",
    "mask = a < 0\n",
    "print(a[mask])\n",
    "\n",
    "div3 = a % 3 == 0\n",
    "print(a[div3])"
   ]
  },
  {
   "cell_type": "code",
   "execution_count": null,
   "id": "698cbc68",
   "metadata": {
    "scrolled": true
   },
   "outputs": [],
   "source": [
    "# broadcasting\n",
    "a =  np.arange(25).reshape(5, 5)\n",
    "# l'array 1-dimensionale b viene ripetuto più volte\n",
    "b = np.array([10, 20, 30, 40, 50])\n",
    "# b si comporta come\n",
    "# b = [[10, 20, 30, 40, 50],\n",
    "#      [10, 20, 30, 40, 50],\n",
    "#      [10, 20, 30, 40, 50],\n",
    "#      [10, 20, 30, 40, 50],\n",
    "#      [10, 20, 30, 40, 50]]\n",
    "print(a + b)"
   ]
  },
  {
   "cell_type": "code",
   "execution_count": null,
   "id": "23c8ed40",
   "metadata": {},
   "outputs": [],
   "source": [
    "print(a)\n",
    "a.sum()\n",
    "a.sum(axis=1)"
   ]
  },
  {
   "cell_type": "code",
   "execution_count": null,
   "id": "9a0dee26",
   "metadata": {
    "scrolled": true
   },
   "outputs": [],
   "source": [
    "# esempio di confronto tra vectorized operation a for loops\n",
    "# esempio originale: \"Introduction to Numerical Computing with NumPy\" di Alex Chabot-Leclerc\n",
    "# presentata a Scypy2019 https://www.scipy2019.scipy.org/tutorial-participant-instructions\n",
    "\n",
    "import numpy as np\n",
    "import matplotlib.pyplot as plt\n",
    "\n",
    "def smooth(img):\n",
    "    avg_img =(    img[1:-1 ,1:-1]  # center\n",
    "                + img[ :-2 ,1:-1]  # top\n",
    "                + img[2:   ,1:-1]  # bottom\n",
    "                + img[1:-1 , :-2]  # left\n",
    "                + img[1:-1 ,2:  ]  # right\n",
    "                ) / 5.0\n",
    "    return avg_img\n",
    "\n",
    "\n",
    "def smooth_loop(img):\n",
    "    smoothed = np.zeros((img.shape[0]-2, img.shape[1]-2))\n",
    "    for r in range(0, img.shape[0]-2):\n",
    "        for c in range(0, img.shape[1]-2):\n",
    "            smoothed[r, c] = (  img[r+1, c+1]  # center\n",
    "                              + img[r  , c+1]  # top\n",
    "                              + img[r+2, c+1]  # bottom\n",
    "                              + img[r+1, c  ]  # left\n",
    "                              + img[r+1, c+2]  # right\n",
    "                             ) / 5.0\n",
    "    return smoothed\n",
    "\n",
    "#img = plt.imread('dc_metro.png')\n",
    "img = plt.imread('arena_bw.png')\n",
    "\n",
    "plt.figure()\n",
    "# Set colormap so that images are plotted in gray scale.\n",
    "plt.gray()\n",
    "# Plot the original image first\n",
    "plt.subplot(1,2,1)\n",
    "plt.imshow(img)\n",
    "plt.title('original')\n",
    "\n",
    "avg_img = smooth(img)\n",
    "for num in range(50):\n",
    "    avg_img = smooth(avg_img)\n",
    "\n",
    "# Now the filtered image.\n",
    "plt.subplot(1,2,2)\n",
    "plt.imshow(avg_img)\n",
    "plt.title('smoothed 50 times')\n",
    "\n",
    "assert np.allclose(smooth(img), smooth_loop(img))\n",
    "plt.show()\n"
   ]
  },
  {
   "cell_type": "code",
   "execution_count": null,
   "id": "9b418e79",
   "metadata": {},
   "outputs": [],
   "source": [
    "%timeit smooth(img)"
   ]
  },
  {
   "cell_type": "code",
   "execution_count": null,
   "id": "64d6a501",
   "metadata": {},
   "outputs": [],
   "source": [
    "%timeit smooth_loop(img)"
   ]
  }
 ],
 "metadata": {
  "interpreter": {
   "hash": "916dbcbb3f70747c44a77c7bcd40155683ae19c65e1c03b4aa3499c5328201f1"
  },
  "kernelspec": {
   "display_name": "Python 3.8.10 64-bit",
   "language": "python",
   "name": "python3"
  },
  "language_info": {
   "codemirror_mode": {
    "name": "ipython",
    "version": 3
   },
   "file_extension": ".py",
   "mimetype": "text/x-python",
   "name": "python",
   "nbconvert_exporter": "python",
   "pygments_lexer": "ipython3",
   "version": "3.8.10"
  }
 },
 "nbformat": 4,
 "nbformat_minor": 5
}
